{
  "nbformat": 4,
  "nbformat_minor": 0,
  "metadata": {
    "colab": {
      "provenance": [],
      "toc_visible": true,
      "authorship_tag": "ABX9TyOjOpnW4FST6NtjD2JDms2E",
      "include_colab_link": true
    },
    "kernelspec": {
      "name": "python3",
      "display_name": "Python 3"
    },
    "language_info": {
      "name": "python"
    }
  },
  "cells": [
    {
      "cell_type": "markdown",
      "metadata": {
        "id": "view-in-github",
        "colab_type": "text"
      },
      "source": [
        "<a href=\"https://colab.research.google.com/github/LatiefDataVisionary/demand-forecasting-retail-college-task/blob/main/notebooks/notebook.ipynb\" target=\"_parent\"><img src=\"https://colab.research.google.com/assets/colab-badge.svg\" alt=\"Open In Colab\"/></a>"
      ]
    },
    {
      "cell_type": "markdown",
      "metadata": {
        "id": "810d4a67"
      },
      "source": [
        "# **Demand Forecasting for Retail: A Machine Learning Pipeline Approach**\n",
        "\n",
        "## **Project Overview**\n",
        "\n",
        "**College Course:** Model Development Engineering\n",
        "\n",
        "**Objective:** To develop a robust machine learning model to accurately forecast daily product demand for a retail company. This involves a comprehensive data pipeline, including merging multiple data sources, extensive feature engineering, and model comparison to optimize inventory management and reduce costs."
      ]
    },
    {
      "cell_type": "markdown",
      "metadata": {
        "id": "98878728"
      },
      "source": [
        "## **Chapter 1: Project Setup**\n",
        "\n",
        "This chapter covers the initial setup, including importing necessary libraries and loading the datasets from their sources."
      ]
    },
    {
      "cell_type": "markdown",
      "metadata": {
        "id": "da82105f"
      },
      "source": [
        "### **1.1. Import Libraries**"
      ]
    },
    {
      "cell_type": "code",
      "metadata": {
        "id": "e2402d38"
      },
      "source": [
        "import pandas as pd\n",
        "import numpy as np\n",
        "import matplotlib.pyplot as plt\n",
        "import seaborn as sns\n",
        "from sklearn.model_selection import train_test_split\n",
        "from sklearn.preprocessing import StandardScaler, OneHotEncoder\n",
        "from sklearn.compose import ColumnTransformer\n",
        "from sklearn.pipeline import Pipeline\n",
        "from sklearn.metrics import mean_squared_error, mean_absolute_error\n",
        "import xgboost as xgb\n",
        "\n",
        "# Set plotting style\n",
        "sns.set_style(\"whitegrid\")"
      ],
      "execution_count": 21,
      "outputs": []
    },
    {
      "cell_type": "markdown",
      "metadata": {
        "id": "429ab218"
      },
      "source": [
        "### **1.2. Load Datasets**"
      ]
    },
    {
      "cell_type": "code",
      "metadata": {
        "colab": {
          "base_uri": "https://localhost:8080/"
        },
        "id": "27b70eea",
        "outputId": "95bd9597-ebc3-4a25-e82a-7490980de44d"
      },
      "source": [
        "data1 = 'https://raw.githubusercontent.com/LatiefDataVisionary/demand-forecasting-retail-college-task/refs/heads/main/data/raw/Dataset%201_Retail%20Store%20Inventory%20and%20Demand%20Forecasting.csv'\n",
        "data2 = 'https://raw.githubusercontent.com/LatiefDataVisionary/demand-forecasting-retail-college-task/refs/heads/main/data/raw/Dataset%202_Retail%20Sales%20Data%20with%20Seasonal%20Trends%20%26%20Marketing.csv'\n",
        "data3 = 'https://raw.githubusercontent.com/LatiefDataVisionary/demand-forecasting-retail-college-task/refs/heads/main/data/raw/Dataset%203_Strategic%20Supply%20Chain%20Demand%20Forecasting%20Dataset.csv'\n",
        "\n",
        "df1 = pd.read_csv(data1)\n",
        "df2 = pd.read_csv(data2)\n",
        "df3 = pd.read_csv(data3)\n",
        "\n",
        "print(\"df1 loaded successfully.\")\n",
        "print(\"df2 loaded successfully.\")\n",
        "print(\"df3 loaded successfully.\")"
      ],
      "execution_count": 22,
      "outputs": [
        {
          "output_type": "stream",
          "name": "stdout",
          "text": [
            "df1 loaded successfully.\n",
            "df2 loaded successfully.\n",
            "df3 loaded successfully.\n"
          ]
        }
      ]
    },
    {
      "cell_type": "markdown",
      "source": [
        "#### **1.2.1. Data Information**"
      ],
      "metadata": {
        "id": "0uLpqcq0HTtk"
      }
    },
    {
      "cell_type": "code",
      "source": [
        "df1.head()"
      ],
      "metadata": {
        "id": "libPz81qIAw3",
        "outputId": "06aa1cfd-af63-43f0-d80e-52edcddb0b5e",
        "colab": {
          "base_uri": "https://localhost:8080/",
          "height": 330
        }
      },
      "execution_count": 23,
      "outputs": [
        {
          "output_type": "execute_result",
          "data": {
            "text/plain": [
              "         Date Store ID Product ID     Category Region  Inventory Level  \\\n",
              "0  2022-01-01     S001      P0001  Electronics  North              195   \n",
              "1  2022-01-01     S001      P0002     Clothing  North              117   \n",
              "2  2022-01-01     S001      P0003     Clothing  North              247   \n",
              "3  2022-01-01     S001      P0004  Electronics  North              139   \n",
              "4  2022-01-01     S001      P0005    Groceries  North              152   \n",
              "\n",
              "   Units Sold  Units Ordered  Price  Discount Weather Condition  Promotion  \\\n",
              "0         102            252  72.72         5             Snowy          0   \n",
              "1         117            249  80.16        15             Snowy          1   \n",
              "2         114            612  62.94        10             Snowy          1   \n",
              "3          45            102  87.63        10             Snowy          0   \n",
              "4          65            271  54.41         0             Snowy          0   \n",
              "\n",
              "   Competitor Pricing Seasonality  Epidemic  Demand  \n",
              "0               85.73      Winter         0     115  \n",
              "1               92.02      Winter         0     229  \n",
              "2               60.08      Winter         0     157  \n",
              "3               85.19      Winter         0      52  \n",
              "4               51.63      Winter         0      59  "
            ],
            "text/html": [
              "\n",
              "  <div id=\"df-94a3934c-6f42-49a2-b8c8-c012d821f917\" class=\"colab-df-container\">\n",
              "    <div>\n",
              "<style scoped>\n",
              "    .dataframe tbody tr th:only-of-type {\n",
              "        vertical-align: middle;\n",
              "    }\n",
              "\n",
              "    .dataframe tbody tr th {\n",
              "        vertical-align: top;\n",
              "    }\n",
              "\n",
              "    .dataframe thead th {\n",
              "        text-align: right;\n",
              "    }\n",
              "</style>\n",
              "<table border=\"1\" class=\"dataframe\">\n",
              "  <thead>\n",
              "    <tr style=\"text-align: right;\">\n",
              "      <th></th>\n",
              "      <th>Date</th>\n",
              "      <th>Store ID</th>\n",
              "      <th>Product ID</th>\n",
              "      <th>Category</th>\n",
              "      <th>Region</th>\n",
              "      <th>Inventory Level</th>\n",
              "      <th>Units Sold</th>\n",
              "      <th>Units Ordered</th>\n",
              "      <th>Price</th>\n",
              "      <th>Discount</th>\n",
              "      <th>Weather Condition</th>\n",
              "      <th>Promotion</th>\n",
              "      <th>Competitor Pricing</th>\n",
              "      <th>Seasonality</th>\n",
              "      <th>Epidemic</th>\n",
              "      <th>Demand</th>\n",
              "    </tr>\n",
              "  </thead>\n",
              "  <tbody>\n",
              "    <tr>\n",
              "      <th>0</th>\n",
              "      <td>2022-01-01</td>\n",
              "      <td>S001</td>\n",
              "      <td>P0001</td>\n",
              "      <td>Electronics</td>\n",
              "      <td>North</td>\n",
              "      <td>195</td>\n",
              "      <td>102</td>\n",
              "      <td>252</td>\n",
              "      <td>72.72</td>\n",
              "      <td>5</td>\n",
              "      <td>Snowy</td>\n",
              "      <td>0</td>\n",
              "      <td>85.73</td>\n",
              "      <td>Winter</td>\n",
              "      <td>0</td>\n",
              "      <td>115</td>\n",
              "    </tr>\n",
              "    <tr>\n",
              "      <th>1</th>\n",
              "      <td>2022-01-01</td>\n",
              "      <td>S001</td>\n",
              "      <td>P0002</td>\n",
              "      <td>Clothing</td>\n",
              "      <td>North</td>\n",
              "      <td>117</td>\n",
              "      <td>117</td>\n",
              "      <td>249</td>\n",
              "      <td>80.16</td>\n",
              "      <td>15</td>\n",
              "      <td>Snowy</td>\n",
              "      <td>1</td>\n",
              "      <td>92.02</td>\n",
              "      <td>Winter</td>\n",
              "      <td>0</td>\n",
              "      <td>229</td>\n",
              "    </tr>\n",
              "    <tr>\n",
              "      <th>2</th>\n",
              "      <td>2022-01-01</td>\n",
              "      <td>S001</td>\n",
              "      <td>P0003</td>\n",
              "      <td>Clothing</td>\n",
              "      <td>North</td>\n",
              "      <td>247</td>\n",
              "      <td>114</td>\n",
              "      <td>612</td>\n",
              "      <td>62.94</td>\n",
              "      <td>10</td>\n",
              "      <td>Snowy</td>\n",
              "      <td>1</td>\n",
              "      <td>60.08</td>\n",
              "      <td>Winter</td>\n",
              "      <td>0</td>\n",
              "      <td>157</td>\n",
              "    </tr>\n",
              "    <tr>\n",
              "      <th>3</th>\n",
              "      <td>2022-01-01</td>\n",
              "      <td>S001</td>\n",
              "      <td>P0004</td>\n",
              "      <td>Electronics</td>\n",
              "      <td>North</td>\n",
              "      <td>139</td>\n",
              "      <td>45</td>\n",
              "      <td>102</td>\n",
              "      <td>87.63</td>\n",
              "      <td>10</td>\n",
              "      <td>Snowy</td>\n",
              "      <td>0</td>\n",
              "      <td>85.19</td>\n",
              "      <td>Winter</td>\n",
              "      <td>0</td>\n",
              "      <td>52</td>\n",
              "    </tr>\n",
              "    <tr>\n",
              "      <th>4</th>\n",
              "      <td>2022-01-01</td>\n",
              "      <td>S001</td>\n",
              "      <td>P0005</td>\n",
              "      <td>Groceries</td>\n",
              "      <td>North</td>\n",
              "      <td>152</td>\n",
              "      <td>65</td>\n",
              "      <td>271</td>\n",
              "      <td>54.41</td>\n",
              "      <td>0</td>\n",
              "      <td>Snowy</td>\n",
              "      <td>0</td>\n",
              "      <td>51.63</td>\n",
              "      <td>Winter</td>\n",
              "      <td>0</td>\n",
              "      <td>59</td>\n",
              "    </tr>\n",
              "  </tbody>\n",
              "</table>\n",
              "</div>\n",
              "    <div class=\"colab-df-buttons\">\n",
              "\n",
              "  <div class=\"colab-df-container\">\n",
              "    <button class=\"colab-df-convert\" onclick=\"convertToInteractive('df-94a3934c-6f42-49a2-b8c8-c012d821f917')\"\n",
              "            title=\"Convert this dataframe to an interactive table.\"\n",
              "            style=\"display:none;\">\n",
              "\n",
              "  <svg xmlns=\"http://www.w3.org/2000/svg\" height=\"24px\" viewBox=\"0 -960 960 960\">\n",
              "    <path d=\"M120-120v-720h720v720H120Zm60-500h600v-160H180v160Zm220 220h160v-160H400v160Zm0 220h160v-160H400v160ZM180-400h160v-160H180v160Zm440 0h160v-160H620v160ZM180-180h160v-160H180v160Zm440 0h160v-160H620v160Z\"/>\n",
              "  </svg>\n",
              "    </button>\n",
              "\n",
              "  <style>\n",
              "    .colab-df-container {\n",
              "      display:flex;\n",
              "      gap: 12px;\n",
              "    }\n",
              "\n",
              "    .colab-df-convert {\n",
              "      background-color: #E8F0FE;\n",
              "      border: none;\n",
              "      border-radius: 50%;\n",
              "      cursor: pointer;\n",
              "      display: none;\n",
              "      fill: #1967D2;\n",
              "      height: 32px;\n",
              "      padding: 0 0 0 0;\n",
              "      width: 32px;\n",
              "    }\n",
              "\n",
              "    .colab-df-convert:hover {\n",
              "      background-color: #E2EBFA;\n",
              "      box-shadow: 0px 1px 2px rgba(60, 64, 67, 0.3), 0px 1px 3px 1px rgba(60, 64, 67, 0.15);\n",
              "      fill: #174EA6;\n",
              "    }\n",
              "\n",
              "    .colab-df-buttons div {\n",
              "      margin-bottom: 4px;\n",
              "    }\n",
              "\n",
              "    [theme=dark] .colab-df-convert {\n",
              "      background-color: #3B4455;\n",
              "      fill: #D2E3FC;\n",
              "    }\n",
              "\n",
              "    [theme=dark] .colab-df-convert:hover {\n",
              "      background-color: #434B5C;\n",
              "      box-shadow: 0px 1px 3px 1px rgba(0, 0, 0, 0.15);\n",
              "      filter: drop-shadow(0px 1px 2px rgba(0, 0, 0, 0.3));\n",
              "      fill: #FFFFFF;\n",
              "    }\n",
              "  </style>\n",
              "\n",
              "    <script>\n",
              "      const buttonEl =\n",
              "        document.querySelector('#df-94a3934c-6f42-49a2-b8c8-c012d821f917 button.colab-df-convert');\n",
              "      buttonEl.style.display =\n",
              "        google.colab.kernel.accessAllowed ? 'block' : 'none';\n",
              "\n",
              "      async function convertToInteractive(key) {\n",
              "        const element = document.querySelector('#df-94a3934c-6f42-49a2-b8c8-c012d821f917');\n",
              "        const dataTable =\n",
              "          await google.colab.kernel.invokeFunction('convertToInteractive',\n",
              "                                                    [key], {});\n",
              "        if (!dataTable) return;\n",
              "\n",
              "        const docLinkHtml = 'Like what you see? Visit the ' +\n",
              "          '<a target=\"_blank\" href=https://colab.research.google.com/notebooks/data_table.ipynb>data table notebook</a>'\n",
              "          + ' to learn more about interactive tables.';\n",
              "        element.innerHTML = '';\n",
              "        dataTable['output_type'] = 'display_data';\n",
              "        await google.colab.output.renderOutput(dataTable, element);\n",
              "        const docLink = document.createElement('div');\n",
              "        docLink.innerHTML = docLinkHtml;\n",
              "        element.appendChild(docLink);\n",
              "      }\n",
              "    </script>\n",
              "  </div>\n",
              "\n",
              "\n",
              "    <div id=\"df-e4a4a8c0-f2ca-4318-8069-43cfbb3006cf\">\n",
              "      <button class=\"colab-df-quickchart\" onclick=\"quickchart('df-e4a4a8c0-f2ca-4318-8069-43cfbb3006cf')\"\n",
              "                title=\"Suggest charts\"\n",
              "                style=\"display:none;\">\n",
              "\n",
              "<svg xmlns=\"http://www.w3.org/2000/svg\" height=\"24px\"viewBox=\"0 0 24 24\"\n",
              "     width=\"24px\">\n",
              "    <g>\n",
              "        <path d=\"M19 3H5c-1.1 0-2 .9-2 2v14c0 1.1.9 2 2 2h14c1.1 0 2-.9 2-2V5c0-1.1-.9-2-2-2zM9 17H7v-7h2v7zm4 0h-2V7h2v10zm4 0h-2v-4h2v4z\"/>\n",
              "    </g>\n",
              "</svg>\n",
              "      </button>\n",
              "\n",
              "<style>\n",
              "  .colab-df-quickchart {\n",
              "      --bg-color: #E8F0FE;\n",
              "      --fill-color: #1967D2;\n",
              "      --hover-bg-color: #E2EBFA;\n",
              "      --hover-fill-color: #174EA6;\n",
              "      --disabled-fill-color: #AAA;\n",
              "      --disabled-bg-color: #DDD;\n",
              "  }\n",
              "\n",
              "  [theme=dark] .colab-df-quickchart {\n",
              "      --bg-color: #3B4455;\n",
              "      --fill-color: #D2E3FC;\n",
              "      --hover-bg-color: #434B5C;\n",
              "      --hover-fill-color: #FFFFFF;\n",
              "      --disabled-bg-color: #3B4455;\n",
              "      --disabled-fill-color: #666;\n",
              "  }\n",
              "\n",
              "  .colab-df-quickchart {\n",
              "    background-color: var(--bg-color);\n",
              "    border: none;\n",
              "    border-radius: 50%;\n",
              "    cursor: pointer;\n",
              "    display: none;\n",
              "    fill: var(--fill-color);\n",
              "    height: 32px;\n",
              "    padding: 0;\n",
              "    width: 32px;\n",
              "  }\n",
              "\n",
              "  .colab-df-quickchart:hover {\n",
              "    background-color: var(--hover-bg-color);\n",
              "    box-shadow: 0 1px 2px rgba(60, 64, 67, 0.3), 0 1px 3px 1px rgba(60, 64, 67, 0.15);\n",
              "    fill: var(--button-hover-fill-color);\n",
              "  }\n",
              "\n",
              "  .colab-df-quickchart-complete:disabled,\n",
              "  .colab-df-quickchart-complete:disabled:hover {\n",
              "    background-color: var(--disabled-bg-color);\n",
              "    fill: var(--disabled-fill-color);\n",
              "    box-shadow: none;\n",
              "  }\n",
              "\n",
              "  .colab-df-spinner {\n",
              "    border: 2px solid var(--fill-color);\n",
              "    border-color: transparent;\n",
              "    border-bottom-color: var(--fill-color);\n",
              "    animation:\n",
              "      spin 1s steps(1) infinite;\n",
              "  }\n",
              "\n",
              "  @keyframes spin {\n",
              "    0% {\n",
              "      border-color: transparent;\n",
              "      border-bottom-color: var(--fill-color);\n",
              "      border-left-color: var(--fill-color);\n",
              "    }\n",
              "    20% {\n",
              "      border-color: transparent;\n",
              "      border-left-color: var(--fill-color);\n",
              "      border-top-color: var(--fill-color);\n",
              "    }\n",
              "    30% {\n",
              "      border-color: transparent;\n",
              "      border-left-color: var(--fill-color);\n",
              "      border-top-color: var(--fill-color);\n",
              "      border-right-color: var(--fill-color);\n",
              "    }\n",
              "    40% {\n",
              "      border-color: transparent;\n",
              "      border-right-color: var(--fill-color);\n",
              "      border-top-color: var(--fill-color);\n",
              "    }\n",
              "    60% {\n",
              "      border-color: transparent;\n",
              "      border-right-color: var(--fill-color);\n",
              "    }\n",
              "    80% {\n",
              "      border-color: transparent;\n",
              "      border-right-color: var(--fill-color);\n",
              "      border-bottom-color: var(--fill-color);\n",
              "    }\n",
              "    90% {\n",
              "      border-color: transparent;\n",
              "      border-bottom-color: var(--fill-color);\n",
              "    }\n",
              "  }\n",
              "</style>\n",
              "\n",
              "      <script>\n",
              "        async function quickchart(key) {\n",
              "          const quickchartButtonEl =\n",
              "            document.querySelector('#' + key + ' button');\n",
              "          quickchartButtonEl.disabled = true;  // To prevent multiple clicks.\n",
              "          quickchartButtonEl.classList.add('colab-df-spinner');\n",
              "          try {\n",
              "            const charts = await google.colab.kernel.invokeFunction(\n",
              "                'suggestCharts', [key], {});\n",
              "          } catch (error) {\n",
              "            console.error('Error during call to suggestCharts:', error);\n",
              "          }\n",
              "          quickchartButtonEl.classList.remove('colab-df-spinner');\n",
              "          quickchartButtonEl.classList.add('colab-df-quickchart-complete');\n",
              "        }\n",
              "        (() => {\n",
              "          let quickchartButtonEl =\n",
              "            document.querySelector('#df-e4a4a8c0-f2ca-4318-8069-43cfbb3006cf button');\n",
              "          quickchartButtonEl.style.display =\n",
              "            google.colab.kernel.accessAllowed ? 'block' : 'none';\n",
              "        })();\n",
              "      </script>\n",
              "    </div>\n",
              "\n",
              "    </div>\n",
              "  </div>\n"
            ],
            "application/vnd.google.colaboratory.intrinsic+json": {
              "type": "dataframe",
              "variable_name": "df1",
              "summary": "{\n  \"name\": \"df1\",\n  \"rows\": 76000,\n  \"fields\": [\n    {\n      \"column\": \"Date\",\n      \"properties\": {\n        \"dtype\": \"object\",\n        \"num_unique_values\": 760,\n        \"samples\": [\n          \"2023-01-31\",\n          \"2022-11-21\",\n          \"2022-04-08\"\n        ],\n        \"semantic_type\": \"\",\n        \"description\": \"\"\n      }\n    },\n    {\n      \"column\": \"Store ID\",\n      \"properties\": {\n        \"dtype\": \"category\",\n        \"num_unique_values\": 5,\n        \"samples\": [\n          \"S002\",\n          \"S005\",\n          \"S003\"\n        ],\n        \"semantic_type\": \"\",\n        \"description\": \"\"\n      }\n    },\n    {\n      \"column\": \"Product ID\",\n      \"properties\": {\n        \"dtype\": \"category\",\n        \"num_unique_values\": 20,\n        \"samples\": [\n          \"P0001\",\n          \"P0018\",\n          \"P0016\"\n        ],\n        \"semantic_type\": \"\",\n        \"description\": \"\"\n      }\n    },\n    {\n      \"column\": \"Category\",\n      \"properties\": {\n        \"dtype\": \"category\",\n        \"num_unique_values\": 5,\n        \"samples\": [\n          \"Clothing\",\n          \"Furniture\",\n          \"Groceries\"\n        ],\n        \"semantic_type\": \"\",\n        \"description\": \"\"\n      }\n    },\n    {\n      \"column\": \"Region\",\n      \"properties\": {\n        \"dtype\": \"category\",\n        \"num_unique_values\": 4,\n        \"samples\": [\n          \"South\",\n          \"West\",\n          \"North\"\n        ],\n        \"semantic_type\": \"\",\n        \"description\": \"\"\n      }\n    },\n    {\n      \"column\": \"Inventory Level\",\n      \"properties\": {\n        \"dtype\": \"number\",\n        \"std\": 226,\n        \"min\": 0,\n        \"max\": 2267,\n        \"num_unique_values\": 1426,\n        \"samples\": [\n          101,\n          1247,\n          607\n        ],\n        \"semantic_type\": \"\",\n        \"description\": \"\"\n      }\n    },\n    {\n      \"column\": \"Units Sold\",\n      \"properties\": {\n        \"dtype\": \"number\",\n        \"std\": 43,\n        \"min\": 0,\n        \"max\": 426,\n        \"num_unique_values\": 330,\n        \"samples\": [\n          70,\n          200,\n          156\n        ],\n        \"semantic_type\": \"\",\n        \"description\": \"\"\n      }\n    },\n    {\n      \"column\": \"Units Ordered\",\n      \"properties\": {\n        \"dtype\": \"number\",\n        \"std\": 162,\n        \"min\": 0,\n        \"max\": 1616,\n        \"num_unique_values\": 996,\n        \"samples\": [\n          1204,\n          904,\n          386\n        ],\n        \"semantic_type\": \"\",\n        \"description\": \"\"\n      }\n    },\n    {\n      \"column\": \"Price\",\n      \"properties\": {\n        \"dtype\": \"number\",\n        \"std\": 39.37789879880464,\n        \"min\": 4.74,\n        \"max\": 228.03,\n        \"num_unique_values\": 15396,\n        \"samples\": [\n          68.25,\n          111.65,\n          40.74\n        ],\n        \"semantic_type\": \"\",\n        \"description\": \"\"\n      }\n    },\n    {\n      \"column\": \"Discount\",\n      \"properties\": {\n        \"dtype\": \"number\",\n        \"std\": 7,\n        \"min\": 0,\n        \"max\": 25,\n        \"num_unique_values\": 6,\n        \"samples\": [\n          5,\n          15,\n          20\n        ],\n        \"semantic_type\": \"\",\n        \"description\": \"\"\n      }\n    },\n    {\n      \"column\": \"Weather Condition\",\n      \"properties\": {\n        \"dtype\": \"category\",\n        \"num_unique_values\": 4,\n        \"samples\": [\n          \"Cloudy\",\n          \"Rainy\",\n          \"Snowy\"\n        ],\n        \"semantic_type\": \"\",\n        \"description\": \"\"\n      }\n    },\n    {\n      \"column\": \"Promotion\",\n      \"properties\": {\n        \"dtype\": \"number\",\n        \"std\": 0,\n        \"min\": 0,\n        \"max\": 1,\n        \"num_unique_values\": 2,\n        \"samples\": [\n          1,\n          0\n        ],\n        \"semantic_type\": \"\",\n        \"description\": \"\"\n      }\n    },\n    {\n      \"column\": \"Competitor Pricing\",\n      \"properties\": {\n        \"dtype\": \"number\",\n        \"std\": 40.94381753046188,\n        \"min\": 4.29,\n        \"max\": 261.22,\n        \"num_unique_values\": 15963,\n        \"samples\": [\n          61.65,\n          185.25\n        ],\n        \"semantic_type\": \"\",\n        \"description\": \"\"\n      }\n    },\n    {\n      \"column\": \"Seasonality\",\n      \"properties\": {\n        \"dtype\": \"category\",\n        \"num_unique_values\": 4,\n        \"samples\": [\n          \"Spring\",\n          \"Autumn\"\n        ],\n        \"semantic_type\": \"\",\n        \"description\": \"\"\n      }\n    },\n    {\n      \"column\": \"Epidemic\",\n      \"properties\": {\n        \"dtype\": \"number\",\n        \"std\": 0,\n        \"min\": 0,\n        \"max\": 1,\n        \"num_unique_values\": 2,\n        \"samples\": [\n          1,\n          0\n        ],\n        \"semantic_type\": \"\",\n        \"description\": \"\"\n      }\n    },\n    {\n      \"column\": \"Demand\",\n      \"properties\": {\n        \"dtype\": \"number\",\n        \"std\": 46,\n        \"min\": 4,\n        \"max\": 430,\n        \"num_unique_values\": 340,\n        \"samples\": [\n          6,\n          68\n        ],\n        \"semantic_type\": \"\",\n        \"description\": \"\"\n      }\n    }\n  ]\n}"
            }
          },
          "metadata": {},
          "execution_count": 23
        }
      ]
    },
    {
      "cell_type": "code",
      "source": [
        "df1.info()"
      ],
      "metadata": {
        "id": "GK-MS_zYIJOK",
        "outputId": "204ffd78-5558-4828-c996-a7a20cad67da",
        "colab": {
          "base_uri": "https://localhost:8080/"
        }
      },
      "execution_count": 26,
      "outputs": [
        {
          "output_type": "stream",
          "name": "stdout",
          "text": [
            "<class 'pandas.core.frame.DataFrame'>\n",
            "RangeIndex: 76000 entries, 0 to 75999\n",
            "Data columns (total 16 columns):\n",
            " #   Column              Non-Null Count  Dtype  \n",
            "---  ------              --------------  -----  \n",
            " 0   Date                76000 non-null  object \n",
            " 1   Store ID            76000 non-null  object \n",
            " 2   Product ID          76000 non-null  object \n",
            " 3   Category            76000 non-null  object \n",
            " 4   Region              76000 non-null  object \n",
            " 5   Inventory Level     76000 non-null  int64  \n",
            " 6   Units Sold          76000 non-null  int64  \n",
            " 7   Units Ordered       76000 non-null  int64  \n",
            " 8   Price               76000 non-null  float64\n",
            " 9   Discount            76000 non-null  int64  \n",
            " 10  Weather Condition   76000 non-null  object \n",
            " 11  Promotion           76000 non-null  int64  \n",
            " 12  Competitor Pricing  76000 non-null  float64\n",
            " 13  Seasonality         76000 non-null  object \n",
            " 14  Epidemic            76000 non-null  int64  \n",
            " 15  Demand              76000 non-null  int64  \n",
            "dtypes: float64(2), int64(7), object(7)\n",
            "memory usage: 9.3+ MB\n"
          ]
        }
      ]
    },
    {
      "cell_type": "code",
      "source": [
        "df2.head()"
      ],
      "metadata": {
        "id": "LVYh9mM9ID7f",
        "outputId": "ba87218e-edd6-486b-aa57-59118df0c339",
        "colab": {
          "base_uri": "https://localhost:8080/",
          "height": 466
        }
      },
      "execution_count": 27,
      "outputs": [
        {
          "output_type": "execute_result",
          "data": {
            "text/plain": [
              "   YEAR  MONTH                           SUPPLIER ITEM CODE  \\\n",
              "0  2020      1  REPUBLIC NATIONAL DISTRIBUTING CO    100009   \n",
              "1  2020      1                          PWSWN INC    100024   \n",
              "2  2020      1            RELIABLE CHURCHILL LLLP      1001   \n",
              "3  2020      1          LANTERNA DISTRIBUTORS INC    100145   \n",
              "4  2020      1               DIONYSOS IMPORTS INC    100293   \n",
              "\n",
              "                      ITEM DESCRIPTION ITEM TYPE  RETAIL SALES  \\\n",
              "0                  BOOTLEG RED - 750ML      WINE          0.00   \n",
              "1            MOMENT DE PLAISIR - 750ML      WINE          0.00   \n",
              "2  S SMITH ORGANIC PEAR CIDER - 18.7OZ      BEER          0.00   \n",
              "3        SCHLINK HAUS KABINETT - 750ML      WINE          0.00   \n",
              "4       SANTORINI GAVALA WHITE - 750ML      WINE          0.82   \n",
              "\n",
              "   RETAIL TRANSFERS  WAREHOUSE SALES  \n",
              "0               0.0              2.0  \n",
              "1               1.0              4.0  \n",
              "2               0.0              1.0  \n",
              "3               0.0              1.0  \n",
              "4               0.0              0.0  "
            ],
            "text/html": [
              "\n",
              "  <div id=\"df-83c67a49-8b03-4c27-95b2-325ec85836fe\" class=\"colab-df-container\">\n",
              "    <div>\n",
              "<style scoped>\n",
              "    .dataframe tbody tr th:only-of-type {\n",
              "        vertical-align: middle;\n",
              "    }\n",
              "\n",
              "    .dataframe tbody tr th {\n",
              "        vertical-align: top;\n",
              "    }\n",
              "\n",
              "    .dataframe thead th {\n",
              "        text-align: right;\n",
              "    }\n",
              "</style>\n",
              "<table border=\"1\" class=\"dataframe\">\n",
              "  <thead>\n",
              "    <tr style=\"text-align: right;\">\n",
              "      <th></th>\n",
              "      <th>YEAR</th>\n",
              "      <th>MONTH</th>\n",
              "      <th>SUPPLIER</th>\n",
              "      <th>ITEM CODE</th>\n",
              "      <th>ITEM DESCRIPTION</th>\n",
              "      <th>ITEM TYPE</th>\n",
              "      <th>RETAIL SALES</th>\n",
              "      <th>RETAIL TRANSFERS</th>\n",
              "      <th>WAREHOUSE SALES</th>\n",
              "    </tr>\n",
              "  </thead>\n",
              "  <tbody>\n",
              "    <tr>\n",
              "      <th>0</th>\n",
              "      <td>2020</td>\n",
              "      <td>1</td>\n",
              "      <td>REPUBLIC NATIONAL DISTRIBUTING CO</td>\n",
              "      <td>100009</td>\n",
              "      <td>BOOTLEG RED - 750ML</td>\n",
              "      <td>WINE</td>\n",
              "      <td>0.00</td>\n",
              "      <td>0.0</td>\n",
              "      <td>2.0</td>\n",
              "    </tr>\n",
              "    <tr>\n",
              "      <th>1</th>\n",
              "      <td>2020</td>\n",
              "      <td>1</td>\n",
              "      <td>PWSWN INC</td>\n",
              "      <td>100024</td>\n",
              "      <td>MOMENT DE PLAISIR - 750ML</td>\n",
              "      <td>WINE</td>\n",
              "      <td>0.00</td>\n",
              "      <td>1.0</td>\n",
              "      <td>4.0</td>\n",
              "    </tr>\n",
              "    <tr>\n",
              "      <th>2</th>\n",
              "      <td>2020</td>\n",
              "      <td>1</td>\n",
              "      <td>RELIABLE CHURCHILL LLLP</td>\n",
              "      <td>1001</td>\n",
              "      <td>S SMITH ORGANIC PEAR CIDER - 18.7OZ</td>\n",
              "      <td>BEER</td>\n",
              "      <td>0.00</td>\n",
              "      <td>0.0</td>\n",
              "      <td>1.0</td>\n",
              "    </tr>\n",
              "    <tr>\n",
              "      <th>3</th>\n",
              "      <td>2020</td>\n",
              "      <td>1</td>\n",
              "      <td>LANTERNA DISTRIBUTORS INC</td>\n",
              "      <td>100145</td>\n",
              "      <td>SCHLINK HAUS KABINETT - 750ML</td>\n",
              "      <td>WINE</td>\n",
              "      <td>0.00</td>\n",
              "      <td>0.0</td>\n",
              "      <td>1.0</td>\n",
              "    </tr>\n",
              "    <tr>\n",
              "      <th>4</th>\n",
              "      <td>2020</td>\n",
              "      <td>1</td>\n",
              "      <td>DIONYSOS IMPORTS INC</td>\n",
              "      <td>100293</td>\n",
              "      <td>SANTORINI GAVALA WHITE - 750ML</td>\n",
              "      <td>WINE</td>\n",
              "      <td>0.82</td>\n",
              "      <td>0.0</td>\n",
              "      <td>0.0</td>\n",
              "    </tr>\n",
              "  </tbody>\n",
              "</table>\n",
              "</div>\n",
              "    <div class=\"colab-df-buttons\">\n",
              "\n",
              "  <div class=\"colab-df-container\">\n",
              "    <button class=\"colab-df-convert\" onclick=\"convertToInteractive('df-83c67a49-8b03-4c27-95b2-325ec85836fe')\"\n",
              "            title=\"Convert this dataframe to an interactive table.\"\n",
              "            style=\"display:none;\">\n",
              "\n",
              "  <svg xmlns=\"http://www.w3.org/2000/svg\" height=\"24px\" viewBox=\"0 -960 960 960\">\n",
              "    <path d=\"M120-120v-720h720v720H120Zm60-500h600v-160H180v160Zm220 220h160v-160H400v160Zm0 220h160v-160H400v160ZM180-400h160v-160H180v160Zm440 0h160v-160H620v160ZM180-180h160v-160H180v160Zm440 0h160v-160H620v160Z\"/>\n",
              "  </svg>\n",
              "    </button>\n",
              "\n",
              "  <style>\n",
              "    .colab-df-container {\n",
              "      display:flex;\n",
              "      gap: 12px;\n",
              "    }\n",
              "\n",
              "    .colab-df-convert {\n",
              "      background-color: #E8F0FE;\n",
              "      border: none;\n",
              "      border-radius: 50%;\n",
              "      cursor: pointer;\n",
              "      display: none;\n",
              "      fill: #1967D2;\n",
              "      height: 32px;\n",
              "      padding: 0 0 0 0;\n",
              "      width: 32px;\n",
              "    }\n",
              "\n",
              "    .colab-df-convert:hover {\n",
              "      background-color: #E2EBFA;\n",
              "      box-shadow: 0px 1px 2px rgba(60, 64, 67, 0.3), 0px 1px 3px 1px rgba(60, 64, 67, 0.15);\n",
              "      fill: #174EA6;\n",
              "    }\n",
              "\n",
              "    .colab-df-buttons div {\n",
              "      margin-bottom: 4px;\n",
              "    }\n",
              "\n",
              "    [theme=dark] .colab-df-convert {\n",
              "      background-color: #3B4455;\n",
              "      fill: #D2E3FC;\n",
              "    }\n",
              "\n",
              "    [theme=dark] .colab-df-convert:hover {\n",
              "      background-color: #434B5C;\n",
              "      box-shadow: 0px 1px 3px 1px rgba(0, 0, 0, 0.15);\n",
              "      filter: drop-shadow(0px 1px 2px rgba(0, 0, 0, 0.3));\n",
              "      fill: #FFFFFF;\n",
              "    }\n",
              "  </style>\n",
              "\n",
              "    <script>\n",
              "      const buttonEl =\n",
              "        document.querySelector('#df-83c67a49-8b03-4c27-95b2-325ec85836fe button.colab-df-convert');\n",
              "      buttonEl.style.display =\n",
              "        google.colab.kernel.accessAllowed ? 'block' : 'none';\n",
              "\n",
              "      async function convertToInteractive(key) {\n",
              "        const element = document.querySelector('#df-83c67a49-8b03-4c27-95b2-325ec85836fe');\n",
              "        const dataTable =\n",
              "          await google.colab.kernel.invokeFunction('convertToInteractive',\n",
              "                                                    [key], {});\n",
              "        if (!dataTable) return;\n",
              "\n",
              "        const docLinkHtml = 'Like what you see? Visit the ' +\n",
              "          '<a target=\"_blank\" href=https://colab.research.google.com/notebooks/data_table.ipynb>data table notebook</a>'\n",
              "          + ' to learn more about interactive tables.';\n",
              "        element.innerHTML = '';\n",
              "        dataTable['output_type'] = 'display_data';\n",
              "        await google.colab.output.renderOutput(dataTable, element);\n",
              "        const docLink = document.createElement('div');\n",
              "        docLink.innerHTML = docLinkHtml;\n",
              "        element.appendChild(docLink);\n",
              "      }\n",
              "    </script>\n",
              "  </div>\n",
              "\n",
              "\n",
              "    <div id=\"df-2c122bbf-226d-4641-9c51-1ecbf928e309\">\n",
              "      <button class=\"colab-df-quickchart\" onclick=\"quickchart('df-2c122bbf-226d-4641-9c51-1ecbf928e309')\"\n",
              "                title=\"Suggest charts\"\n",
              "                style=\"display:none;\">\n",
              "\n",
              "<svg xmlns=\"http://www.w3.org/2000/svg\" height=\"24px\"viewBox=\"0 0 24 24\"\n",
              "     width=\"24px\">\n",
              "    <g>\n",
              "        <path d=\"M19 3H5c-1.1 0-2 .9-2 2v14c0 1.1.9 2 2 2h14c1.1 0 2-.9 2-2V5c0-1.1-.9-2-2-2zM9 17H7v-7h2v7zm4 0h-2V7h2v10zm4 0h-2v-4h2v4z\"/>\n",
              "    </g>\n",
              "</svg>\n",
              "      </button>\n",
              "\n",
              "<style>\n",
              "  .colab-df-quickchart {\n",
              "      --bg-color: #E8F0FE;\n",
              "      --fill-color: #1967D2;\n",
              "      --hover-bg-color: #E2EBFA;\n",
              "      --hover-fill-color: #174EA6;\n",
              "      --disabled-fill-color: #AAA;\n",
              "      --disabled-bg-color: #DDD;\n",
              "  }\n",
              "\n",
              "  [theme=dark] .colab-df-quickchart {\n",
              "      --bg-color: #3B4455;\n",
              "      --fill-color: #D2E3FC;\n",
              "      --hover-bg-color: #434B5C;\n",
              "      --hover-fill-color: #FFFFFF;\n",
              "      --disabled-bg-color: #3B4455;\n",
              "      --disabled-fill-color: #666;\n",
              "  }\n",
              "\n",
              "  .colab-df-quickchart {\n",
              "    background-color: var(--bg-color);\n",
              "    border: none;\n",
              "    border-radius: 50%;\n",
              "    cursor: pointer;\n",
              "    display: none;\n",
              "    fill: var(--fill-color);\n",
              "    height: 32px;\n",
              "    padding: 0;\n",
              "    width: 32px;\n",
              "  }\n",
              "\n",
              "  .colab-df-quickchart:hover {\n",
              "    background-color: var(--hover-bg-color);\n",
              "    box-shadow: 0 1px 2px rgba(60, 64, 67, 0.3), 0 1px 3px 1px rgba(60, 64, 67, 0.15);\n",
              "    fill: var(--button-hover-fill-color);\n",
              "  }\n",
              "\n",
              "  .colab-df-quickchart-complete:disabled,\n",
              "  .colab-df-quickchart-complete:disabled:hover {\n",
              "    background-color: var(--disabled-bg-color);\n",
              "    fill: var(--disabled-fill-color);\n",
              "    box-shadow: none;\n",
              "  }\n",
              "\n",
              "  .colab-df-spinner {\n",
              "    border: 2px solid var(--fill-color);\n",
              "    border-color: transparent;\n",
              "    border-bottom-color: var(--fill-color);\n",
              "    animation:\n",
              "      spin 1s steps(1) infinite;\n",
              "  }\n",
              "\n",
              "  @keyframes spin {\n",
              "    0% {\n",
              "      border-color: transparent;\n",
              "      border-bottom-color: var(--fill-color);\n",
              "      border-left-color: var(--fill-color);\n",
              "    }\n",
              "    20% {\n",
              "      border-color: transparent;\n",
              "      border-left-color: var(--fill-color);\n",
              "      border-top-color: var(--fill-color);\n",
              "    }\n",
              "    30% {\n",
              "      border-color: transparent;\n",
              "      border-left-color: var(--fill-color);\n",
              "      border-top-color: var(--fill-color);\n",
              "      border-right-color: var(--fill-color);\n",
              "    }\n",
              "    40% {\n",
              "      border-color: transparent;\n",
              "      border-right-color: var(--fill-color);\n",
              "      border-top-color: var(--fill-color);\n",
              "    }\n",
              "    60% {\n",
              "      border-color: transparent;\n",
              "      border-right-color: var(--fill-color);\n",
              "    }\n",
              "    80% {\n",
              "      border-color: transparent;\n",
              "      border-right-color: var(--fill-color);\n",
              "      border-bottom-color: var(--fill-color);\n",
              "    }\n",
              "    90% {\n",
              "      border-color: transparent;\n",
              "      border-bottom-color: var(--fill-color);\n",
              "    }\n",
              "  }\n",
              "</style>\n",
              "\n",
              "      <script>\n",
              "        async function quickchart(key) {\n",
              "          const quickchartButtonEl =\n",
              "            document.querySelector('#' + key + ' button');\n",
              "          quickchartButtonEl.disabled = true;  // To prevent multiple clicks.\n",
              "          quickchartButtonEl.classList.add('colab-df-spinner');\n",
              "          try {\n",
              "            const charts = await google.colab.kernel.invokeFunction(\n",
              "                'suggestCharts', [key], {});\n",
              "          } catch (error) {\n",
              "            console.error('Error during call to suggestCharts:', error);\n",
              "          }\n",
              "          quickchartButtonEl.classList.remove('colab-df-spinner');\n",
              "          quickchartButtonEl.classList.add('colab-df-quickchart-complete');\n",
              "        }\n",
              "        (() => {\n",
              "          let quickchartButtonEl =\n",
              "            document.querySelector('#df-2c122bbf-226d-4641-9c51-1ecbf928e309 button');\n",
              "          quickchartButtonEl.style.display =\n",
              "            google.colab.kernel.accessAllowed ? 'block' : 'none';\n",
              "        })();\n",
              "      </script>\n",
              "    </div>\n",
              "\n",
              "    </div>\n",
              "  </div>\n"
            ],
            "application/vnd.google.colaboratory.intrinsic+json": {
              "type": "dataframe",
              "variable_name": "df2",
              "summary": "{\n  \"name\": \"df2\",\n  \"rows\": 30000,\n  \"fields\": [\n    {\n      \"column\": \"YEAR\",\n      \"properties\": {\n        \"dtype\": \"number\",\n        \"std\": 0,\n        \"min\": 2020,\n        \"max\": 2020,\n        \"num_unique_values\": 1,\n        \"samples\": [\n          2020\n        ],\n        \"semantic_type\": \"\",\n        \"description\": \"\"\n      }\n    },\n    {\n      \"column\": \"MONTH\",\n      \"properties\": {\n        \"dtype\": \"number\",\n        \"std\": 2,\n        \"min\": 1,\n        \"max\": 9,\n        \"num_unique_values\": 4,\n        \"samples\": [\n          7\n        ],\n        \"semantic_type\": \"\",\n        \"description\": \"\"\n      }\n    },\n    {\n      \"column\": \"SUPPLIER\",\n      \"properties\": {\n        \"dtype\": \"category\",\n        \"num_unique_values\": 290,\n        \"samples\": [\n          \"PIPE CREEK WINES LLC\"\n        ],\n        \"semantic_type\": \"\",\n        \"description\": \"\"\n      }\n    },\n    {\n      \"column\": \"ITEM CODE\",\n      \"properties\": {\n        \"dtype\": \"string\",\n        \"num_unique_values\": 15668,\n        \"samples\": [\n          \"71223\"\n        ],\n        \"semantic_type\": \"\",\n        \"description\": \"\"\n      }\n    },\n    {\n      \"column\": \"ITEM DESCRIPTION\",\n      \"properties\": {\n        \"dtype\": \"string\",\n        \"num_unique_values\": 15732,\n        \"samples\": [\n          \"MODELO ESPECIAL-2/12 CAN - 12OZ\"\n        ],\n        \"semantic_type\": \"\",\n        \"description\": \"\"\n      }\n    },\n    {\n      \"column\": \"ITEM TYPE\",\n      \"properties\": {\n        \"dtype\": \"category\",\n        \"num_unique_values\": 8,\n        \"samples\": [\n          \"BEER\"\n        ],\n        \"semantic_type\": \"\",\n        \"description\": \"\"\n      }\n    },\n    {\n      \"column\": \"RETAIL SALES\",\n      \"properties\": {\n        \"dtype\": \"number\",\n        \"std\": 33.08105379024301,\n        \"min\": -0.42,\n        \"max\": 2739.0,\n        \"num_unique_values\": 3657,\n        \"samples\": [\n          0.91\n        ],\n        \"semantic_type\": \"\",\n        \"description\": \"\"\n      }\n    },\n    {\n      \"column\": \"RETAIL TRANSFERS\",\n      \"properties\": {\n        \"dtype\": \"number\",\n        \"std\": 27.879428363638603,\n        \"min\": -6.0,\n        \"max\": 1507.0,\n        \"num_unique_values\": 542,\n        \"samples\": [\n          5.66\n        ],\n        \"semantic_type\": \"\",\n        \"description\": \"\"\n      }\n    },\n    {\n      \"column\": \"WAREHOUSE SALES\",\n      \"properties\": {\n        \"dtype\": \"number\",\n        \"std\": 272.1660847597843,\n        \"min\": -3999.0,\n        \"max\": 18317.0,\n        \"num_unique_values\": 1032,\n        \"samples\": [\n          210.92\n        ],\n        \"semantic_type\": \"\",\n        \"description\": \"\"\n      }\n    }\n  ]\n}"
            }
          },
          "metadata": {},
          "execution_count": 27
        }
      ]
    },
    {
      "cell_type": "code",
      "source": [
        "df2.info()"
      ],
      "metadata": {
        "id": "Il2YFOBtIK2I",
        "outputId": "206d1c38-de7a-45fb-cf42-6b125b0cfa06",
        "colab": {
          "base_uri": "https://localhost:8080/"
        }
      },
      "execution_count": 28,
      "outputs": [
        {
          "output_type": "stream",
          "name": "stdout",
          "text": [
            "<class 'pandas.core.frame.DataFrame'>\n",
            "RangeIndex: 30000 entries, 0 to 29999\n",
            "Data columns (total 9 columns):\n",
            " #   Column            Non-Null Count  Dtype  \n",
            "---  ------            --------------  -----  \n",
            " 0   YEAR              30000 non-null  int64  \n",
            " 1   MONTH             30000 non-null  int64  \n",
            " 2   SUPPLIER          29967 non-null  object \n",
            " 3   ITEM CODE         30000 non-null  object \n",
            " 4   ITEM DESCRIPTION  30000 non-null  object \n",
            " 5   ITEM TYPE         30000 non-null  object \n",
            " 6   RETAIL SALES      29999 non-null  float64\n",
            " 7   RETAIL TRANSFERS  30000 non-null  float64\n",
            " 8   WAREHOUSE SALES   30000 non-null  float64\n",
            "dtypes: float64(3), int64(2), object(4)\n",
            "memory usage: 2.1+ MB\n"
          ]
        }
      ]
    },
    {
      "cell_type": "code",
      "source": [
        "df3.head()"
      ],
      "metadata": {
        "id": "H255saBmIGsh",
        "outputId": "1c8d7fc6-3c89-426a-cde8-aaedc2ebb9fa",
        "colab": {
          "base_uri": "https://localhost:8080/",
          "height": 330
        }
      },
      "execution_count": 29,
      "outputs": [
        {
          "output_type": "execute_result",
          "data": {
            "text/plain": [
              "         date  product_id  sales_units  holiday_season  promotion_applied  \\\n",
              "0  2023-01-01         151           99               0                  0   \n",
              "1  2023-01-02         192           95               1                  0   \n",
              "2  2023-01-03         114          101               0                  0   \n",
              "3  2023-01-04         171           33               0                  0   \n",
              "4  2023-01-05         160           82               0                  1   \n",
              "\n",
              "   competitor_price_index  economic_index  weather_impact       price  \\\n",
              "0                0.983893        1.314333               0  126.932922   \n",
              "1                0.977615        1.439582               0  151.355405   \n",
              "2                0.983913        1.094795               0  191.701693   \n",
              "3                1.191956        0.907672               0  173.106487   \n",
              "4                0.855711        1.479690               0  138.587491   \n",
              "\n",
              "   discount_percentage  sales_revenue  region_Europe  region_North America  \\\n",
              "0             0.000000   12566.359326          False                 False   \n",
              "1             0.000000   14378.763512          False                  True   \n",
              "2             0.000000   19361.870952          False                 False   \n",
              "3             0.000000    5712.514059          False                 False   \n",
              "4            10.995213   10114.659145           True                 False   \n",
              "\n",
              "   store_type_Retail  store_type_Wholesale  category_Cabinets  \\\n",
              "0               True                 False              False   \n",
              "1              False                 False               True   \n",
              "2              False                  True               True   \n",
              "3              False                  True              False   \n",
              "4              False                 False              False   \n",
              "\n",
              "   category_Chairs  category_Sofas  category_Tables  future_demand  \n",
              "0             True           False            False           95.0  \n",
              "1            False           False            False          101.0  \n",
              "2            False           False            False           33.0  \n",
              "3             True           False            False           82.0  \n",
              "4            False            True            False           13.0  "
            ],
            "text/html": [
              "\n",
              "  <div id=\"df-1a43c0ec-6319-4334-8e1b-a073c571f493\" class=\"colab-df-container\">\n",
              "    <div>\n",
              "<style scoped>\n",
              "    .dataframe tbody tr th:only-of-type {\n",
              "        vertical-align: middle;\n",
              "    }\n",
              "\n",
              "    .dataframe tbody tr th {\n",
              "        vertical-align: top;\n",
              "    }\n",
              "\n",
              "    .dataframe thead th {\n",
              "        text-align: right;\n",
              "    }\n",
              "</style>\n",
              "<table border=\"1\" class=\"dataframe\">\n",
              "  <thead>\n",
              "    <tr style=\"text-align: right;\">\n",
              "      <th></th>\n",
              "      <th>date</th>\n",
              "      <th>product_id</th>\n",
              "      <th>sales_units</th>\n",
              "      <th>holiday_season</th>\n",
              "      <th>promotion_applied</th>\n",
              "      <th>competitor_price_index</th>\n",
              "      <th>economic_index</th>\n",
              "      <th>weather_impact</th>\n",
              "      <th>price</th>\n",
              "      <th>discount_percentage</th>\n",
              "      <th>sales_revenue</th>\n",
              "      <th>region_Europe</th>\n",
              "      <th>region_North America</th>\n",
              "      <th>store_type_Retail</th>\n",
              "      <th>store_type_Wholesale</th>\n",
              "      <th>category_Cabinets</th>\n",
              "      <th>category_Chairs</th>\n",
              "      <th>category_Sofas</th>\n",
              "      <th>category_Tables</th>\n",
              "      <th>future_demand</th>\n",
              "    </tr>\n",
              "  </thead>\n",
              "  <tbody>\n",
              "    <tr>\n",
              "      <th>0</th>\n",
              "      <td>2023-01-01</td>\n",
              "      <td>151</td>\n",
              "      <td>99</td>\n",
              "      <td>0</td>\n",
              "      <td>0</td>\n",
              "      <td>0.983893</td>\n",
              "      <td>1.314333</td>\n",
              "      <td>0</td>\n",
              "      <td>126.932922</td>\n",
              "      <td>0.000000</td>\n",
              "      <td>12566.359326</td>\n",
              "      <td>False</td>\n",
              "      <td>False</td>\n",
              "      <td>True</td>\n",
              "      <td>False</td>\n",
              "      <td>False</td>\n",
              "      <td>True</td>\n",
              "      <td>False</td>\n",
              "      <td>False</td>\n",
              "      <td>95.0</td>\n",
              "    </tr>\n",
              "    <tr>\n",
              "      <th>1</th>\n",
              "      <td>2023-01-02</td>\n",
              "      <td>192</td>\n",
              "      <td>95</td>\n",
              "      <td>1</td>\n",
              "      <td>0</td>\n",
              "      <td>0.977615</td>\n",
              "      <td>1.439582</td>\n",
              "      <td>0</td>\n",
              "      <td>151.355405</td>\n",
              "      <td>0.000000</td>\n",
              "      <td>14378.763512</td>\n",
              "      <td>False</td>\n",
              "      <td>True</td>\n",
              "      <td>False</td>\n",
              "      <td>False</td>\n",
              "      <td>True</td>\n",
              "      <td>False</td>\n",
              "      <td>False</td>\n",
              "      <td>False</td>\n",
              "      <td>101.0</td>\n",
              "    </tr>\n",
              "    <tr>\n",
              "      <th>2</th>\n",
              "      <td>2023-01-03</td>\n",
              "      <td>114</td>\n",
              "      <td>101</td>\n",
              "      <td>0</td>\n",
              "      <td>0</td>\n",
              "      <td>0.983913</td>\n",
              "      <td>1.094795</td>\n",
              "      <td>0</td>\n",
              "      <td>191.701693</td>\n",
              "      <td>0.000000</td>\n",
              "      <td>19361.870952</td>\n",
              "      <td>False</td>\n",
              "      <td>False</td>\n",
              "      <td>False</td>\n",
              "      <td>True</td>\n",
              "      <td>True</td>\n",
              "      <td>False</td>\n",
              "      <td>False</td>\n",
              "      <td>False</td>\n",
              "      <td>33.0</td>\n",
              "    </tr>\n",
              "    <tr>\n",
              "      <th>3</th>\n",
              "      <td>2023-01-04</td>\n",
              "      <td>171</td>\n",
              "      <td>33</td>\n",
              "      <td>0</td>\n",
              "      <td>0</td>\n",
              "      <td>1.191956</td>\n",
              "      <td>0.907672</td>\n",
              "      <td>0</td>\n",
              "      <td>173.106487</td>\n",
              "      <td>0.000000</td>\n",
              "      <td>5712.514059</td>\n",
              "      <td>False</td>\n",
              "      <td>False</td>\n",
              "      <td>False</td>\n",
              "      <td>True</td>\n",
              "      <td>False</td>\n",
              "      <td>True</td>\n",
              "      <td>False</td>\n",
              "      <td>False</td>\n",
              "      <td>82.0</td>\n",
              "    </tr>\n",
              "    <tr>\n",
              "      <th>4</th>\n",
              "      <td>2023-01-05</td>\n",
              "      <td>160</td>\n",
              "      <td>82</td>\n",
              "      <td>0</td>\n",
              "      <td>1</td>\n",
              "      <td>0.855711</td>\n",
              "      <td>1.479690</td>\n",
              "      <td>0</td>\n",
              "      <td>138.587491</td>\n",
              "      <td>10.995213</td>\n",
              "      <td>10114.659145</td>\n",
              "      <td>True</td>\n",
              "      <td>False</td>\n",
              "      <td>False</td>\n",
              "      <td>False</td>\n",
              "      <td>False</td>\n",
              "      <td>False</td>\n",
              "      <td>True</td>\n",
              "      <td>False</td>\n",
              "      <td>13.0</td>\n",
              "    </tr>\n",
              "  </tbody>\n",
              "</table>\n",
              "</div>\n",
              "    <div class=\"colab-df-buttons\">\n",
              "\n",
              "  <div class=\"colab-df-container\">\n",
              "    <button class=\"colab-df-convert\" onclick=\"convertToInteractive('df-1a43c0ec-6319-4334-8e1b-a073c571f493')\"\n",
              "            title=\"Convert this dataframe to an interactive table.\"\n",
              "            style=\"display:none;\">\n",
              "\n",
              "  <svg xmlns=\"http://www.w3.org/2000/svg\" height=\"24px\" viewBox=\"0 -960 960 960\">\n",
              "    <path d=\"M120-120v-720h720v720H120Zm60-500h600v-160H180v160Zm220 220h160v-160H400v160Zm0 220h160v-160H400v160ZM180-400h160v-160H180v160Zm440 0h160v-160H620v160ZM180-180h160v-160H180v160Zm440 0h160v-160H620v160Z\"/>\n",
              "  </svg>\n",
              "    </button>\n",
              "\n",
              "  <style>\n",
              "    .colab-df-container {\n",
              "      display:flex;\n",
              "      gap: 12px;\n",
              "    }\n",
              "\n",
              "    .colab-df-convert {\n",
              "      background-color: #E8F0FE;\n",
              "      border: none;\n",
              "      border-radius: 50%;\n",
              "      cursor: pointer;\n",
              "      display: none;\n",
              "      fill: #1967D2;\n",
              "      height: 32px;\n",
              "      padding: 0 0 0 0;\n",
              "      width: 32px;\n",
              "    }\n",
              "\n",
              "    .colab-df-convert:hover {\n",
              "      background-color: #E2EBFA;\n",
              "      box-shadow: 0px 1px 2px rgba(60, 64, 67, 0.3), 0px 1px 3px 1px rgba(60, 64, 67, 0.15);\n",
              "      fill: #174EA6;\n",
              "    }\n",
              "\n",
              "    .colab-df-buttons div {\n",
              "      margin-bottom: 4px;\n",
              "    }\n",
              "\n",
              "    [theme=dark] .colab-df-convert {\n",
              "      background-color: #3B4455;\n",
              "      fill: #D2E3FC;\n",
              "    }\n",
              "\n",
              "    [theme=dark] .colab-df-convert:hover {\n",
              "      background-color: #434B5C;\n",
              "      box-shadow: 0px 1px 3px 1px rgba(0, 0, 0, 0.15);\n",
              "      filter: drop-shadow(0px 1px 2px rgba(0, 0, 0, 0.3));\n",
              "      fill: #FFFFFF;\n",
              "    }\n",
              "  </style>\n",
              "\n",
              "    <script>\n",
              "      const buttonEl =\n",
              "        document.querySelector('#df-1a43c0ec-6319-4334-8e1b-a073c571f493 button.colab-df-convert');\n",
              "      buttonEl.style.display =\n",
              "        google.colab.kernel.accessAllowed ? 'block' : 'none';\n",
              "\n",
              "      async function convertToInteractive(key) {\n",
              "        const element = document.querySelector('#df-1a43c0ec-6319-4334-8e1b-a073c571f493');\n",
              "        const dataTable =\n",
              "          await google.colab.kernel.invokeFunction('convertToInteractive',\n",
              "                                                    [key], {});\n",
              "        if (!dataTable) return;\n",
              "\n",
              "        const docLinkHtml = 'Like what you see? Visit the ' +\n",
              "          '<a target=\"_blank\" href=https://colab.research.google.com/notebooks/data_table.ipynb>data table notebook</a>'\n",
              "          + ' to learn more about interactive tables.';\n",
              "        element.innerHTML = '';\n",
              "        dataTable['output_type'] = 'display_data';\n",
              "        await google.colab.output.renderOutput(dataTable, element);\n",
              "        const docLink = document.createElement('div');\n",
              "        docLink.innerHTML = docLinkHtml;\n",
              "        element.appendChild(docLink);\n",
              "      }\n",
              "    </script>\n",
              "  </div>\n",
              "\n",
              "\n",
              "    <div id=\"df-e52f49bd-bce8-4a71-8ead-548a21f45598\">\n",
              "      <button class=\"colab-df-quickchart\" onclick=\"quickchart('df-e52f49bd-bce8-4a71-8ead-548a21f45598')\"\n",
              "                title=\"Suggest charts\"\n",
              "                style=\"display:none;\">\n",
              "\n",
              "<svg xmlns=\"http://www.w3.org/2000/svg\" height=\"24px\"viewBox=\"0 0 24 24\"\n",
              "     width=\"24px\">\n",
              "    <g>\n",
              "        <path d=\"M19 3H5c-1.1 0-2 .9-2 2v14c0 1.1.9 2 2 2h14c1.1 0 2-.9 2-2V5c0-1.1-.9-2-2-2zM9 17H7v-7h2v7zm4 0h-2V7h2v10zm4 0h-2v-4h2v4z\"/>\n",
              "    </g>\n",
              "</svg>\n",
              "      </button>\n",
              "\n",
              "<style>\n",
              "  .colab-df-quickchart {\n",
              "      --bg-color: #E8F0FE;\n",
              "      --fill-color: #1967D2;\n",
              "      --hover-bg-color: #E2EBFA;\n",
              "      --hover-fill-color: #174EA6;\n",
              "      --disabled-fill-color: #AAA;\n",
              "      --disabled-bg-color: #DDD;\n",
              "  }\n",
              "\n",
              "  [theme=dark] .colab-df-quickchart {\n",
              "      --bg-color: #3B4455;\n",
              "      --fill-color: #D2E3FC;\n",
              "      --hover-bg-color: #434B5C;\n",
              "      --hover-fill-color: #FFFFFF;\n",
              "      --disabled-bg-color: #3B4455;\n",
              "      --disabled-fill-color: #666;\n",
              "  }\n",
              "\n",
              "  .colab-df-quickchart {\n",
              "    background-color: var(--bg-color);\n",
              "    border: none;\n",
              "    border-radius: 50%;\n",
              "    cursor: pointer;\n",
              "    display: none;\n",
              "    fill: var(--fill-color);\n",
              "    height: 32px;\n",
              "    padding: 0;\n",
              "    width: 32px;\n",
              "  }\n",
              "\n",
              "  .colab-df-quickchart:hover {\n",
              "    background-color: var(--hover-bg-color);\n",
              "    box-shadow: 0 1px 2px rgba(60, 64, 67, 0.3), 0 1px 3px 1px rgba(60, 64, 67, 0.15);\n",
              "    fill: var(--button-hover-fill-color);\n",
              "  }\n",
              "\n",
              "  .colab-df-quickchart-complete:disabled,\n",
              "  .colab-df-quickchart-complete:disabled:hover {\n",
              "    background-color: var(--disabled-bg-color);\n",
              "    fill: var(--disabled-fill-color);\n",
              "    box-shadow: none;\n",
              "  }\n",
              "\n",
              "  .colab-df-spinner {\n",
              "    border: 2px solid var(--fill-color);\n",
              "    border-color: transparent;\n",
              "    border-bottom-color: var(--fill-color);\n",
              "    animation:\n",
              "      spin 1s steps(1) infinite;\n",
              "  }\n",
              "\n",
              "  @keyframes spin {\n",
              "    0% {\n",
              "      border-color: transparent;\n",
              "      border-bottom-color: var(--fill-color);\n",
              "      border-left-color: var(--fill-color);\n",
              "    }\n",
              "    20% {\n",
              "      border-color: transparent;\n",
              "      border-left-color: var(--fill-color);\n",
              "      border-top-color: var(--fill-color);\n",
              "    }\n",
              "    30% {\n",
              "      border-color: transparent;\n",
              "      border-left-color: var(--fill-color);\n",
              "      border-top-color: var(--fill-color);\n",
              "      border-right-color: var(--fill-color);\n",
              "    }\n",
              "    40% {\n",
              "      border-color: transparent;\n",
              "      border-right-color: var(--fill-color);\n",
              "      border-top-color: var(--fill-color);\n",
              "    }\n",
              "    60% {\n",
              "      border-color: transparent;\n",
              "      border-right-color: var(--fill-color);\n",
              "    }\n",
              "    80% {\n",
              "      border-color: transparent;\n",
              "      border-right-color: var(--fill-color);\n",
              "      border-bottom-color: var(--fill-color);\n",
              "    }\n",
              "    90% {\n",
              "      border-color: transparent;\n",
              "      border-bottom-color: var(--fill-color);\n",
              "    }\n",
              "  }\n",
              "</style>\n",
              "\n",
              "      <script>\n",
              "        async function quickchart(key) {\n",
              "          const quickchartButtonEl =\n",
              "            document.querySelector('#' + key + ' button');\n",
              "          quickchartButtonEl.disabled = true;  // To prevent multiple clicks.\n",
              "          quickchartButtonEl.classList.add('colab-df-spinner');\n",
              "          try {\n",
              "            const charts = await google.colab.kernel.invokeFunction(\n",
              "                'suggestCharts', [key], {});\n",
              "          } catch (error) {\n",
              "            console.error('Error during call to suggestCharts:', error);\n",
              "          }\n",
              "          quickchartButtonEl.classList.remove('colab-df-spinner');\n",
              "          quickchartButtonEl.classList.add('colab-df-quickchart-complete');\n",
              "        }\n",
              "        (() => {\n",
              "          let quickchartButtonEl =\n",
              "            document.querySelector('#df-e52f49bd-bce8-4a71-8ead-548a21f45598 button');\n",
              "          quickchartButtonEl.style.display =\n",
              "            google.colab.kernel.accessAllowed ? 'block' : 'none';\n",
              "        })();\n",
              "      </script>\n",
              "    </div>\n",
              "\n",
              "    </div>\n",
              "  </div>\n"
            ],
            "application/vnd.google.colaboratory.intrinsic+json": {
              "type": "dataframe",
              "variable_name": "df3",
              "summary": "{\n  \"name\": \"df3\",\n  \"rows\": 4999,\n  \"fields\": [\n    {\n      \"column\": \"date\",\n      \"properties\": {\n        \"dtype\": \"object\",\n        \"num_unique_values\": 4999,\n        \"samples\": [\n          \"2023-03-26\",\n          \"2029-10-06\",\n          \"2030-09-05\"\n        ],\n        \"semantic_type\": \"\",\n        \"description\": \"\"\n      }\n    },\n    {\n      \"column\": \"product_id\",\n      \"properties\": {\n        \"dtype\": \"number\",\n        \"std\": 28,\n        \"min\": 100,\n        \"max\": 199,\n        \"num_unique_values\": 100,\n        \"samples\": [\n          165,\n          162,\n          111\n        ],\n        \"semantic_type\": \"\",\n        \"description\": \"\"\n      }\n    },\n    {\n      \"column\": \"sales_units\",\n      \"properties\": {\n        \"dtype\": \"number\",\n        \"std\": 54,\n        \"min\": 10,\n        \"max\": 199,\n        \"num_unique_values\": 190,\n        \"samples\": [\n          17,\n          92,\n          141\n        ],\n        \"semantic_type\": \"\",\n        \"description\": \"\"\n      }\n    },\n    {\n      \"column\": \"holiday_season\",\n      \"properties\": {\n        \"dtype\": \"number\",\n        \"std\": 0,\n        \"min\": 0,\n        \"max\": 1,\n        \"num_unique_values\": 2,\n        \"samples\": [\n          1,\n          0\n        ],\n        \"semantic_type\": \"\",\n        \"description\": \"\"\n      }\n    },\n    {\n      \"column\": \"promotion_applied\",\n      \"properties\": {\n        \"dtype\": \"number\",\n        \"std\": 0,\n        \"min\": 0,\n        \"max\": 1,\n        \"num_unique_values\": 2,\n        \"samples\": [\n          1,\n          0\n        ],\n        \"semantic_type\": \"\",\n        \"description\": \"\"\n      }\n    },\n    {\n      \"column\": \"competitor_price_index\",\n      \"properties\": {\n        \"dtype\": \"number\",\n        \"std\": 0.1160950814400145,\n        \"min\": 0.8000805592537242,\n        \"max\": 1.1999288661445826,\n        \"num_unique_values\": 4999,\n        \"samples\": [\n          0.8760746107640771,\n          0.9810737088688276\n        ],\n        \"semantic_type\": \"\",\n        \"description\": \"\"\n      }\n    },\n    {\n      \"column\": \"economic_index\",\n      \"properties\": {\n        \"dtype\": \"number\",\n        \"std\": 0.2870367004212571,\n        \"min\": 0.500020517960895,\n        \"max\": 1.4999738676462568,\n        \"num_unique_values\": 4999,\n        \"samples\": [\n          0.7549923964109491,\n          1.033283339359548\n        ],\n        \"semantic_type\": \"\",\n        \"description\": \"\"\n      }\n    },\n    {\n      \"column\": \"weather_impact\",\n      \"properties\": {\n        \"dtype\": \"number\",\n        \"std\": 0,\n        \"min\": 0,\n        \"max\": 1,\n        \"num_unique_values\": 2,\n        \"samples\": [\n          1,\n          0\n        ],\n        \"semantic_type\": \"\",\n        \"description\": \"\"\n      }\n    },\n    {\n      \"column\": \"price\",\n      \"properties\": {\n        \"dtype\": \"number\",\n        \"std\": 51.947268103506545,\n        \"min\": 20.01678824382372,\n        \"max\": 199.9634803061532,\n        \"num_unique_values\": 4999,\n        \"samples\": [\n          117.86600840797551,\n          64.05703178875248\n        ],\n        \"semantic_type\": \"\",\n        \"description\": \"\"\n      }\n    },\n    {\n      \"column\": \"discount_percentage\",\n      \"properties\": {\n        \"dtype\": \"number\",\n        \"std\": 8.879610267671088,\n        \"min\": 0.0,\n        \"max\": 29.99653840520595,\n        \"num_unique_values\": 1458,\n        \"samples\": [\n          12.930063829129608,\n          9.808111109245443\n        ],\n        \"semantic_type\": \"\",\n        \"description\": \"\"\n      }\n    },\n    {\n      \"column\": \"sales_revenue\",\n      \"properties\": {\n        \"dtype\": \"number\",\n        \"std\": 8261.926164133474,\n        \"min\": 205.71055257393584,\n        \"max\": 39200.191692225904,\n        \"num_unique_values\": 4999,\n        \"samples\": [\n          4007.444285871168,\n          12427.06416701798\n        ],\n        \"semantic_type\": \"\",\n        \"description\": \"\"\n      }\n    },\n    {\n      \"column\": \"region_Europe\",\n      \"properties\": {\n        \"dtype\": \"boolean\",\n        \"num_unique_values\": 2,\n        \"samples\": [\n          true,\n          false\n        ],\n        \"semantic_type\": \"\",\n        \"description\": \"\"\n      }\n    },\n    {\n      \"column\": \"region_North America\",\n      \"properties\": {\n        \"dtype\": \"boolean\",\n        \"num_unique_values\": 2,\n        \"samples\": [\n          true,\n          false\n        ],\n        \"semantic_type\": \"\",\n        \"description\": \"\"\n      }\n    },\n    {\n      \"column\": \"store_type_Retail\",\n      \"properties\": {\n        \"dtype\": \"boolean\",\n        \"num_unique_values\": 2,\n        \"samples\": [\n          false,\n          true\n        ],\n        \"semantic_type\": \"\",\n        \"description\": \"\"\n      }\n    },\n    {\n      \"column\": \"store_type_Wholesale\",\n      \"properties\": {\n        \"dtype\": \"boolean\",\n        \"num_unique_values\": 2,\n        \"samples\": [\n          true,\n          false\n        ],\n        \"semantic_type\": \"\",\n        \"description\": \"\"\n      }\n    },\n    {\n      \"column\": \"category_Cabinets\",\n      \"properties\": {\n        \"dtype\": \"boolean\",\n        \"num_unique_values\": 2,\n        \"samples\": [\n          true,\n          false\n        ],\n        \"semantic_type\": \"\",\n        \"description\": \"\"\n      }\n    },\n    {\n      \"column\": \"category_Chairs\",\n      \"properties\": {\n        \"dtype\": \"boolean\",\n        \"num_unique_values\": 2,\n        \"samples\": [\n          false,\n          true\n        ],\n        \"semantic_type\": \"\",\n        \"description\": \"\"\n      }\n    },\n    {\n      \"column\": \"category_Sofas\",\n      \"properties\": {\n        \"dtype\": \"boolean\",\n        \"num_unique_values\": 2,\n        \"samples\": [\n          true,\n          false\n        ],\n        \"semantic_type\": \"\",\n        \"description\": \"\"\n      }\n    },\n    {\n      \"column\": \"category_Tables\",\n      \"properties\": {\n        \"dtype\": \"boolean\",\n        \"num_unique_values\": 2,\n        \"samples\": [\n          true,\n          false\n        ],\n        \"semantic_type\": \"\",\n        \"description\": \"\"\n      }\n    },\n    {\n      \"column\": \"future_demand\",\n      \"properties\": {\n        \"dtype\": \"number\",\n        \"std\": 54.8063082719255,\n        \"min\": 10.0,\n        \"max\": 199.0,\n        \"num_unique_values\": 190,\n        \"samples\": [\n          17.0,\n          92.0\n        ],\n        \"semantic_type\": \"\",\n        \"description\": \"\"\n      }\n    }\n  ]\n}"
            }
          },
          "metadata": {},
          "execution_count": 29
        }
      ]
    },
    {
      "cell_type": "code",
      "source": [
        "df3.info()"
      ],
      "metadata": {
        "id": "Mb3FM4kDINlB",
        "outputId": "336e6ec9-f129-4a62-b12b-1e78cd118cf8",
        "colab": {
          "base_uri": "https://localhost:8080/"
        }
      },
      "execution_count": 30,
      "outputs": [
        {
          "output_type": "stream",
          "name": "stdout",
          "text": [
            "<class 'pandas.core.frame.DataFrame'>\n",
            "RangeIndex: 4999 entries, 0 to 4998\n",
            "Data columns (total 20 columns):\n",
            " #   Column                  Non-Null Count  Dtype  \n",
            "---  ------                  --------------  -----  \n",
            " 0   date                    4999 non-null   object \n",
            " 1   product_id              4999 non-null   int64  \n",
            " 2   sales_units             4999 non-null   int64  \n",
            " 3   holiday_season          4999 non-null   int64  \n",
            " 4   promotion_applied       4999 non-null   int64  \n",
            " 5   competitor_price_index  4999 non-null   float64\n",
            " 6   economic_index          4999 non-null   float64\n",
            " 7   weather_impact          4999 non-null   int64  \n",
            " 8   price                   4999 non-null   float64\n",
            " 9   discount_percentage     4999 non-null   float64\n",
            " 10  sales_revenue           4999 non-null   float64\n",
            " 11  region_Europe           4999 non-null   bool   \n",
            " 12  region_North America    4999 non-null   bool   \n",
            " 13  store_type_Retail       4999 non-null   bool   \n",
            " 14  store_type_Wholesale    4999 non-null   bool   \n",
            " 15  category_Cabinets       4999 non-null   bool   \n",
            " 16  category_Chairs         4999 non-null   bool   \n",
            " 17  category_Sofas          4999 non-null   bool   \n",
            " 18  category_Tables         4999 non-null   bool   \n",
            " 19  future_demand           4999 non-null   float64\n",
            "dtypes: bool(8), float64(6), int64(5), object(1)\n",
            "memory usage: 507.8+ KB\n"
          ]
        }
      ]
    },
    {
      "cell_type": "markdown",
      "source": [
        "#### **1.2.2. Data Summary Statistics**"
      ],
      "metadata": {
        "id": "Xa92FWqnHU37"
      }
    },
    {
      "cell_type": "markdown",
      "source": [
        "#### **1.2.3. Unique Values and Counts for Object Columns**"
      ],
      "metadata": {
        "id": "XpopLo0aHVRy"
      }
    },
    {
      "cell_type": "markdown",
      "source": [
        "#### **1.2.4. Missing Values Analysis**"
      ],
      "metadata": {
        "id": "fGaAW3jDHVpO"
      }
    },
    {
      "cell_type": "markdown",
      "source": [
        "#### **1.2.5. Duplicate Values Analysis**"
      ],
      "metadata": {
        "id": "h9hHmRCtHV8d"
      }
    },
    {
      "cell_type": "code",
      "source": [],
      "metadata": {
        "id": "3WuVJyFGHRXw"
      },
      "execution_count": null,
      "outputs": []
    },
    {
      "cell_type": "markdown",
      "metadata": {
        "id": "9c8a79fb"
      },
      "source": [
        "## Chapter 2: Data Ingestion and Merging\n",
        "\n",
        "The first step in our pipeline is to integrate the three disparate datasets into a single, unified master DataFrame that will serve as the foundation for our analysis and modeling."
      ]
    },
    {
      "cell_type": "markdown",
      "metadata": {
        "id": "3dcbc6cc"
      },
      "source": [
        "### 2.1. Prepare Datasets for Merging"
      ]
    },
    {
      "cell_type": "markdown",
      "metadata": {
        "id": "88bcaff9"
      },
      "source": [
        "Standardize column names for consistency before merging."
      ]
    },
    {
      "cell_type": "code",
      "metadata": {
        "id": "ed176a8e"
      },
      "source": [
        "# Rename columns in df2 and df3\n",
        "df2 = df2.rename(columns={'ITEM CODE': 'Product ID'})\n",
        "df3 = df3.rename(columns={'date': 'Date', 'product_id': 'Product ID'})\n",
        "\n",
        "# Convert Product ID in df2 to string to match df1 and df3\n",
        "df2['Product ID'] = df2['Product ID'].astype(str)\n",
        "df1['Product ID'] = df1['Product ID'].astype(str)\n",
        "df3['Product ID'] = df3['Product ID'].astype(str)\n",
        "\n",
        "\n",
        "print(\"Column names standardized and Product ID data types converted.\")"
      ],
      "execution_count": null,
      "outputs": []
    },
    {
      "cell_type": "markdown",
      "metadata": {
        "id": "58479dd1"
      },
      "source": [
        "### 2.2. Merge Datasets"
      ]
    },
    {
      "cell_type": "markdown",
      "metadata": {
        "id": "f01908ea"
      },
      "source": [
        "Perform a two-step merge process to create the `master_df`."
      ]
    },
    {
      "cell_type": "code",
      "metadata": {
        "id": "77d1f4a1"
      },
      "source": [
        "# Merge df1 with df2\n",
        "master_df = pd.merge(df1, df2[['Product ID', 'SUPPLIER', 'ITEM TYPE']], on='Product ID', how='left')\n",
        "\n",
        "# Merge the result with df3\n",
        "master_df = pd.merge(master_df, df3[['Date', 'Product ID', 'holiday_season', 'promotion_applied',\n",
        "                                     'competitor_price_index', 'economic_index', 'weather_impact',\n",
        "                                     'price', 'discount_percentage', 'sales_revenue', 'region_Europe',\n",
        "                                     'region_North America', 'store_type_Retail', 'store_type_Wholesale',\n",
        "                                     'category_Cabinets', 'category_Chairs', 'category_Sofas',\n",
        "                                     'category_Tables', 'future_demand']],\n",
        "                     on=['Date', 'Product ID'], how='left')\n",
        "\n",
        "print(\"Datasets merged successfully.\")\n",
        "display(master_df.head())"
      ],
      "execution_count": null,
      "outputs": []
    },
    {
      "cell_type": "markdown",
      "metadata": {
        "id": "d73d7b00"
      },
      "source": [
        "## Chapter 3: The 10-Step Data Preparation Pipeline\n",
        "\n",
        "This chapter details the comprehensive, 10-step data preparation and cleaning process required to transform the raw, merged data into a feature-rich, model-ready format."
      ]
    },
    {
      "cell_type": "markdown",
      "metadata": {
        "id": "0f15c32a"
      },
      "source": [
        "### Step 1: Data Cleaning and Type Conversion"
      ]
    },
    {
      "cell_type": "markdown",
      "metadata": {
        "id": "a78e3e0e"
      },
      "source": [
        "Inspect the Master DataFrame and handle missing values."
      ]
    },
    {
      "cell_type": "code",
      "metadata": {
        "id": "e5c5d8d8"
      },
      "source": [
        "# Inspect the Master DataFrame\n",
        "print(\"Info of master_df:\")\n",
        "master_df.info()\n",
        "\n",
        "print(\"\\nHead of master_df:\")\n",
        "display(master_df.head())\n",
        "\n",
        "# Handle Missing Values\n",
        "print(\"\\nMissing values before handling:\")\n",
        "print(master_df.isnull().sum().to_markdown(numalign=\"left\", stralign=\"left\"))\n",
        "\n",
        "# Fill missing 'SUPPLIER' with \"Unknown\"\n",
        "master_df['SUPPLIER'] = master_df['SUPPLIER'].fillna('Unknown')\n",
        "\n",
        "# Fill missing numerical columns with the median\n",
        "numerical_cols_with_missing = ['RETAIL SALES', 'holiday_season', 'promotion_applied',\n",
        "                               'competitor_price_index', 'economic_index', 'weather_impact',\n",
        "                               'price', 'discount_percentage', 'sales_revenue', 'future_demand']\n",
        "\n",
        "for col in numerical_cols_with_missing:\n",
        "    if master_df[col].isnull().any():\n",
        "        median_val = master_df[col].median()\n",
        "        master_df[col] = master_df[col].fillna(median_val)\n",
        "        print(f\"Filled missing values in {col} with median ({median_val}).\")\n",
        "\n",
        "\n",
        "print(\"\\nMissing values after handling:\")\n",
        "print(master_df.isnull().sum().to_markdown(numalign=\"left\", stralign=\"left\"))\n",
        "\n",
        "# Convert Date column to datetime object\n",
        "master_df['Date'] = pd.to_datetime(master_df['Date'])\n",
        "print(\"\\n'Date' column converted to datetime.\")\n",
        "\n",
        "# Check for Duplicates\n",
        "print(\"\\nDuplicate rows in master_df:\")\n",
        "print(master_df.duplicated().sum())"
      ],
      "execution_count": null,
      "outputs": []
    },
    {
      "cell_type": "markdown",
      "metadata": {
        "id": "9dc40ca9"
      },
      "source": [
        "### Step 2: Column Consolidation and Selection"
      ]
    },
    {
      "cell_type": "markdown",
      "metadata": {
        "id": "a2078f90"
      },
      "source": [
        "Identify and drop redundant or irrelevant columns. Select the target variable."
      ]
    },
    {
      "cell_type": "code",
      "metadata": {
        "id": "447f23c8"
      },
      "source": [
        "# Identify and Drop Redundant Columns\n",
        "# 'future_demand' is a data leak and must be dropped.\n",
        "# 'ITEM DESCRIPTION' might be redundant given 'Product ID'.\n",
        "columns_to_drop = ['future_demand', 'ITEM DESCRIPTION']\n",
        "master_df = master_df.drop(columns=columns_to_drop)\n",
        "\n",
        "print(f\"Dropped redundant columns: {columns_to_drop}\")\n",
        "\n",
        "# Target Variable Selection\n",
        "target_variable = 'Demand'\n",
        "y = master_df[target_variable]\n",
        "X = master_df.drop(columns=[target_variable])\n",
        "\n",
        "print(f\"Target variable '{target_variable}' selected.\")\n",
        "print(\"Features DataFrame (X) created.\")"
      ],
      "execution_count": null,
      "outputs": []
    },
    {
      "cell_type": "markdown",
      "metadata": {
        "id": "889f1082"
      },
      "source": [
        "### Step 3: Exploratory Data Analysis (EDA)"
      ]
    },
    {
      "cell_type": "markdown",
      "metadata": {
        "id": "dec87f3d"
      },
      "source": [
        "Visualize key aspects of the data to understand trends, distributions, and relationships."
      ]
    },
    {
      "cell_type": "code",
      "metadata": {
        "id": "a83af13d"
      },
      "source": [
        "# Time Series Analysis: Plot daily average Demand\n",
        "daily_demand = master_df.groupby('Date')['Demand'].mean().reset_index()\n",
        "\n",
        "plt.figure(figsize=(15, 6))\n",
        "sns.lineplot(data=daily_demand, x='Date', y='Demand')\n",
        "plt.title('Daily Average Demand Over Time')\n",
        "plt.xlabel('Date')\n",
        "plt.ylabel('Average Demand')\n",
        "plt.xticks(rotation=45)\n",
        "plt.tight_layout()\n",
        "plt.show()\n",
        "\n",
        "# Distribution Analysis\n",
        "# Histograms for numerical features\n",
        "numerical_features = ['Price', 'Inventory Level', 'Units Sold', 'Demand', 'RETAIL SALES',\n",
        "                      'competitor_price_index', 'economic_index', 'price', 'discount_percentage',\n",
        "                      'sales_revenue']\n",
        "\n",
        "master_df[numerical_features].hist(figsize=(15, 10), bins=30)\n",
        "plt.suptitle('Histograms of Numerical Features', y=1.02)\n",
        "plt.tight_layout()\n",
        "plt.show()\n",
        "\n",
        "# Count plots for categorical features\n",
        "categorical_features = ['Category', 'Region', 'Store ID', 'Weather Condition', 'Seasonality', 'ITEM TYPE']\n",
        "\n",
        "for col in categorical_features:\n",
        "    plt.figure(figsize=(10, 5))\n",
        "    sns.countplot(data=master_df, y=col, order=master_df[col].value_counts().index)\n",
        "    plt.title(f'Count Plot of {col}')\n",
        "    plt.xlabel('Count')\n",
        "    plt.ylabel(col)\n",
        "    plt.tight_layout()\n",
        "    plt.show()\n",
        "\n",
        "# Correlation Analysis for numerical features\n",
        "plt.figure(figsize=(12, 10))\n",
        "correlation_matrix = master_df[numerical_features].corr()\n",
        "sns.heatmap(correlation_matrix, annot=True, cmap='coolwarm', fmt=\".2f\")\n",
        "plt.title('Correlation Heatmap of Numerical Features')\n",
        "plt.tight_layout()\n",
        "plt.show()"
      ],
      "execution_count": null,
      "outputs": []
    },
    {
      "cell_type": "markdown",
      "metadata": {
        "id": "72fc2023"
      },
      "source": [
        "### Step 4: Outlier Detection and Treatment"
      ]
    },
    {
      "cell_type": "markdown",
      "metadata": {
        "id": "2dbbdfe7"
      },
      "source": [
        "Visualize potential outliers and provide an example of outlier treatment."
      ]
    },
    {
      "cell_type": "code",
      "metadata": {
        "id": "1644cb77"
      },
      "source": [
        "# Visualize Outliers using Box Plots\n",
        "outlier_features = ['Units Sold', 'Price', 'Demand', 'Inventory Level', 'RETAIL SALES']\n",
        "\n",
        "plt.figure(figsize=(15, 8))\n",
        "master_df[outlier_features].boxplot()\n",
        "plt.title('Box Plots for Outlier Detection')\n",
        "plt.ylabel('Value')\n",
        "plt.tight_layout()\n",
        "plt.show()\n",
        "\n",
        "# Treat Outliers (Optional but Recommended)\n",
        "# Explain the concept of capping outliers using the IQR method.\n",
        "print(\"Outlier Treatment (Capping using IQR method):\")\n",
        "print(\"The Interquartile Range (IQR) method can be used to identify outliers.\")\n",
        "print(\"Values below Q1 - 1.5*IQR or above Q3 + 1.5*IQR can be considered outliers.\")\n",
        "print(\"Capping involves replacing these outliers with the boundary values (Q1 - 1.5*IQR or Q3 + 1.5*IQR).\")\n",
        "print(\"Below is commented-out code demonstrating how to cap outliers for 'Units Sold' as an example:\")\n",
        "\n",
        "# Example commented-out code for capping 'Units Sold' outliers:\n",
        "# Q1 = master_df['Units Sold'].quantile(0.25)\n",
        "# Q3 = master_df['Units Sold'].quantile(0.75)\n",
        "# IQR = Q3 - Q1\n",
        "# lower_bound = Q1 - 1.5 * IQR\n",
        "# upper_bound = Q3 + 1.5 * IQR\n",
        "# master_df['Units Sold_capped'] = master_df['Units Sold'].clip(lower=lower_bound, upper=upper_bound)\n",
        "# print(\"\\nExample: 'Units Sold' capped (new column 'Units Sold_capped' created).\")"
      ],
      "execution_count": null,
      "outputs": []
    },
    {
      "cell_type": "markdown",
      "metadata": {
        "id": "a3e58b02"
      },
      "source": [
        "### Step 5: Feature Engineering I - Time-Based Features"
      ]
    },
    {
      "cell_type": "markdown",
      "metadata": {
        "id": "97e2740c"
      },
      "source": [
        "Create new features extracted from the 'Date' column."
      ]
    },
    {
      "cell_type": "code",
      "metadata": {
        "id": "76cc87c2"
      },
      "source": [
        "# Create time-based features\n",
        "master_df['year'] = master_df['Date'].dt.year\n",
        "master_df['month'] = master_df['Date'].dt.month\n",
        "master_df['day'] = master_df['Date'].dt.day\n",
        "master_df['dayofweek'] = master_df['Date'].dt.dayofweek # Monday=0, Sunday=6\n",
        "master_df['dayofyear'] = master_df['Date'].dt.dayofyear\n",
        "master_df['weekofyear'] = master_df['Date'].dt.isocalendar().week.astype(int)\n",
        "master_df['quarter'] = master_df['Date'].dt.quarter\n",
        "\n",
        "print(\"Time-based features created.\")\n",
        "display(master_df[['Date', 'year', 'month', 'day', 'dayofweek', 'dayofyear', 'weekofyear', 'quarter']].head())"
      ],
      "execution_count": null,
      "outputs": []
    },
    {
      "cell_type": "markdown",
      "metadata": {
        "id": "ca10981c"
      },
      "source": [
        "### Step 6: Feature Engineering II - Lag Features"
      ]
    },
    {
      "cell_type": "markdown",
      "metadata": {
        "id": "a27750de"
      },
      "source": [
        "Lag features are crucial for time-series forecasting as they represent past values of the target variable, capturing temporal dependencies."
      ]
    },
    {
      "cell_type": "code",
      "metadata": {
        "id": "70514cd5"
      },
      "source": [
        "# Create lag features for the 'Demand' column\n",
        "master_df['demand_lag_7'] = master_df.groupby('Product ID')['Demand'].shift(7)\n",
        "master_df['demand_lag_28'] = master_df.groupby('Product ID')['Demand'].shift(28)\n",
        "\n",
        "# Handle resulting NaN values (e.g., fill with 0 or the mean of the lag feature)\n",
        "# Filling with 0 as these are the initial periods where no lag data is available\n",
        "master_df['demand_lag_7'] = master_df['demand_lag_7'].fillna(0)\n",
        "master_df['demand_lag_28'] = master_df['demand_lag_28'].fillna(0)\n",
        "\n",
        "\n",
        "print(\"Lag features created for 'Demand'.\")\n",
        "display(master_df[['Date', 'Product ID', 'Demand', 'demand_lag_7', 'demand_lag_28']].head(10))"
      ],
      "execution_count": null,
      "outputs": []
    },
    {
      "cell_type": "markdown",
      "metadata": {
        "id": "5b9e34cc"
      },
      "source": [
        "### Step 7: Feature Engineering III - Rolling Window Features"
      ]
    },
    {
      "cell_type": "markdown",
      "metadata": {
        "id": "3b40be5c"
      },
      "source": [
        "Rolling window features, such as rolling means, help smooth out noise and capture short-term trends in the data."
      ]
    },
    {
      "cell_type": "code",
      "metadata": {
        "id": "c9ac0c27"
      },
      "source": [
        "# Create rolling mean features for 'Demand'\n",
        "master_df['demand_rolling_mean_7'] = master_df.groupby('Product ID')['Demand'].transform(lambda x: x.rolling(window=7).mean())\n",
        "master_df['demand_rolling_mean_28'] = master_df.groupby('Product ID')['Demand'].transform(lambda x: x.rolling(window=28).mean())\n",
        "\n",
        "# Handle resulting NaN values (initial periods)\n",
        "# Filling with the mean of the rolling window feature after calculation\n",
        "master_df['demand_rolling_mean_7'] = master_df['demand_rolling_mean_7'].fillna(master_df['demand_rolling_mean_7'].mean())\n",
        "master_df['demand_rolling_mean_28'] = master_df['demand_rolling_mean_28'].fillna(master_df['demand_rolling_mean_28'].mean())\n",
        "\n",
        "\n",
        "print(\"Rolling window features created for 'Demand'.\")\n",
        "display(master_df[['Date', 'Product ID', 'Demand', 'demand_rolling_mean_7', 'demand_rolling_mean_28']].head(30)) # Display more rows to see non-NaN values"
      ],
      "execution_count": null,
      "outputs": []
    },
    {
      "cell_type": "markdown",
      "metadata": {
        "id": "17da0191"
      },
      "source": [
        "### Step 8: Categorical Feature Encoding"
      ]
    },
    {
      "cell_type": "markdown",
      "metadata": {
        "id": "54cfe6f4"
      },
      "source": [
        "Convert categorical features into a numerical format using One-Hot Encoding."
      ]
    },
    {
      "cell_type": "code",
      "metadata": {
        "id": "cb2fe3bf"
      },
      "source": [
        "# Identify categorical columns (excluding 'Date' and 'Product ID' which are not features for encoding here)\n",
        "categorical_features_for_encoding = master_df.select_dtypes(include='object').columns.tolist()\n",
        "# Remove columns that are not intended for one-hot encoding or have been handled\n",
        "categorical_features_for_encoding.remove('Store ID') # Assuming Store ID will be used as is or dropped later if not needed\n",
        "# Note: 'Category', 'Region', 'Weather Condition', 'Seasonality', 'SUPPLIER', 'ITEM TYPE' are good candidates\n",
        "\n",
        "print(f\"Categorical features to encode: {categorical_features_for_encoding}\")\n",
        "\n",
        "# Apply One-Hot Encoding\n",
        "master_df = pd.get_dummies(master_df, columns=categorical_features_for_encoding, dummy_na=False)\n",
        "\n",
        "print(\"Categorical features encoded using One-Hot Encoding.\")\n",
        "display(master_df.head())"
      ],
      "execution_count": null,
      "outputs": []
    },
    {
      "cell_type": "markdown",
      "metadata": {
        "id": "6c8ec295"
      },
      "source": [
        "### Step 9: Feature Scaling"
      ]
    },
    {
      "cell_type": "markdown",
      "metadata": {
        "id": "26b22b11"
      },
      "source": [
        "Scale numerical features to standardize their range, which is important for many machine learning models."
      ]
    },
    {
      "cell_type": "code",
      "metadata": {
        "id": "cefdf526"
      },
      "source": [
        "# Identify numerical features to scale\n",
        "# Exclude 'Date', 'Product ID', the target variable 'Demand', and the newly created binary/boolean columns from one-hot encoding\n",
        "numerical_features_to_scale = X.select_dtypes(include=np.number).columns.tolist()\n",
        "\n",
        "# Remove boolean columns resulting from one-hot encoding if they are still in X\n",
        "boolean_cols = X.select_dtypes(include='bool').columns.tolist()\n",
        "numerical_features_to_scale = [col for col in numerical_features_to_scale if col not in boolean_cols]\n",
        "\n",
        "# Exclude lag and rolling features as they are already derived from scaled data or handled\n",
        "lag_rolling_features = ['demand_lag_7', 'demand_lag_28', 'demand_rolling_mean_7', 'demand_rolling_mean_28']\n",
        "numerical_features_to_scale = [col for col in numerical_features_to_scale if col not in lag_rolling_features]\n",
        "\n",
        "print(f\"Numerical features to scale: {numerical_features_to_scale}\")\n",
        "\n",
        "# Apply StandardScaler\n",
        "scaler = StandardScaler()\n",
        "master_df[numerical_features_to_scale] = scaler.fit_transform(master_df[numerical_features_to_scale])\n",
        "\n",
        "print(\"Numerical features scaled using StandardScaler.\")\n",
        "display(master_df.head())"
      ],
      "execution_count": null,
      "outputs": []
    },
    {
      "cell_type": "markdown",
      "metadata": {
        "id": "40d000b3"
      },
      "source": [
        "### Step 10: Time-Based Data Splitting"
      ]
    },
    {
      "cell_type": "markdown",
      "metadata": {
        "id": "17f5a195"
      },
      "source": [
        "For time-series data, it is critical to split the data chronologically to avoid data leakage from the future into the training set."
      ]
    },
    {
      "cell_type": "code",
      "metadata": {
        "id": "69cd5e81"
      },
      "source": [
        "# Define the chronological cutoff date for splitting\n",
        "# Using a date in early 2023 as an example cutoff\n",
        "cutoff_date = pd.to_datetime('2023-01-01')\n",
        "\n",
        "# Split data based on the cutoff date\n",
        "train_df = master_df[master_df['Date'] < cutoff_date].copy()\n",
        "val_df = master_df[master_df['Date'] >= cutoff_date].copy()\n",
        "\n",
        "# Define features (X) and target (y) for train and validation sets\n",
        "# Exclude 'Date' and 'Product ID' as they are not features for the model\n",
        "features = [col for col in master_df.columns if col not in ['Date', 'Product ID', target_variable]]\n",
        "\n",
        "X_train = train_df[features]\n",
        "y_train = train_df[target_variable]\n",
        "\n",
        "X_val = val_df[features]\n",
        "y_val = val_df[target_variable]\n",
        "\n",
        "\n",
        "print(f\"Data split into training and validation sets based on cutoff date: {cutoff_date}\")\n",
        "print(f\"Training set shape: {X_train.shape}\")\n",
        "print(f\"Validation set shape: {X_val.shape}\")"
      ],
      "execution_count": null,
      "outputs": []
    },
    {
      "cell_type": "markdown",
      "metadata": {
        "id": "9ad9307f"
      },
      "source": [
        "## Chapter 4: Model Training and Evaluation\n",
        "\n",
        "This chapter focuses on selecting, training, and evaluating a machine learning model for demand forecasting."
      ]
    },
    {
      "cell_type": "markdown",
      "metadata": {
        "id": "d75afd4a"
      },
      "source": [
        "### 4.1. Model Selection"
      ]
    },
    {
      "cell_type": "markdown",
      "metadata": {
        "id": "f5ef4a40"
      },
      "source": [
        "We will use XGBoost (Extreme Gradient Boosting) for our demand forecasting model due to its strong performance on structured data and its ability to handle various types of features."
      ]
    },
    {
      "cell_type": "markdown",
      "metadata": {
        "id": "3ebc231f"
      },
      "source": [
        "### 4.2. Model Training"
      ]
    },
    {
      "cell_type": "code",
      "metadata": {
        "id": "c6168b3c"
      },
      "source": [
        "# Initialize and train the XGBoost Regressor model\n",
        "xgb_model = xgb.XGBRegressor(objective='reg:squarederror', # Regression task\n",
        "                             n_estimators=1000,          # Number of boosting rounds\n",
        "                             learning_rate=0.05,         # Step size shrinkage\n",
        "                             max_depth=7,                # Maximum depth of a tree\n",
        "                             random_state=42,            # For reproducibility\n",
        "                             n_jobs=-1)                  # Use all available cores\n",
        "\n",
        "print(\"Training XGBoost model...\")\n",
        "xgb_model.fit(X_train, y_train)\n",
        "print(\"XGBoost model training complete.\")"
      ],
      "execution_count": null,
      "outputs": []
    },
    {
      "cell_type": "markdown",
      "metadata": {
        "id": "7c482847"
      },
      "source": [
        "### 4.3. Model Evaluation"
      ]
    },
    {
      "cell_type": "markdown",
      "metadata": {
        "id": "e4fb55ac"
      },
      "source": [
        "Evaluate the trained model using appropriate regression metrics on the validation set."
      ]
    },
    {
      "cell_type": "code",
      "metadata": {
        "id": "07de8ae7"
      },
      "source": [
        "# Make predictions on the validation set\n",
        "y_pred = xgb_model.predict(X_val)\n",
        "\n",
        "# Evaluate the model\n",
        "rmse = np.sqrt(mean_squared_error(y_val, y_pred))\n",
        "mae = mean_absolute_error(y_val, y_pred)\n",
        "\n",
        "print(f\"Model Evaluation on Validation Set:\")\n",
        "print(f\"Root Mean Squared Error (RMSE): {rmse:.2f}\")\n",
        "print(f\"Mean Absolute Error (MAE): {mae:.2f}\")"
      ],
      "execution_count": null,
      "outputs": []
    },
    {
      "cell_type": "markdown",
      "metadata": {
        "id": "96678b2d"
      },
      "source": [
        "### 4.4. Feature Importance"
      ]
    },
    {
      "cell_type": "markdown",
      "metadata": {
        "id": "da1e8d1e"
      },
      "source": [
        "Analyze the importance of different features in the trained model."
      ]
    },
    {
      "cell_type": "code",
      "metadata": {
        "id": "1dc53237"
      },
      "source": [
        "# Get feature importances from the trained model\n",
        "feature_importances = xgb_model.feature_importances_\n",
        "\n",
        "# Create a DataFrame of feature importances\n",
        "feature_importance_df = pd.DataFrame({'feature': X_train.columns, 'importance': feature_importances})\n",
        "\n",
        "# Sort features by importance\n",
        "feature_importance_df = feature_importance_df.sort_values(by='importance', ascending=False)\n",
        "\n",
        "# Display top N features\n",
        "print(\"\\nTop 15 Feature Importances:\")\n",
        "display(feature_importance_df.head(15))\n",
        "\n",
        "# Plot feature importances\n",
        "plt.figure(figsize=(12, 8))\n",
        "sns.barplot(x='importance', y='feature', data=feature_importance_df.head(15))\n",
        "plt.title('Top 15 Feature Importances')\n",
        "plt.xlabel('Importance')\n",
        "plt.ylabel('Feature')\n",
        "plt.tight_layout()\n",
        "plt.show()"
      ],
      "execution_count": null,
      "outputs": []
    },
    {
      "cell_type": "markdown",
      "metadata": {
        "id": "115bbbd0"
      },
      "source": [
        "## Chapter 5: Model Evaluation\n",
        "\n",
        "In this chapter, we evaluate the performance of our trained models on the unseen validation set."
      ]
    },
    {
      "cell_type": "markdown",
      "metadata": {
        "id": "8fd313e4"
      },
      "source": [
        "### 5.1. Make Predictions"
      ]
    },
    {
      "cell_type": "code",
      "metadata": {
        "id": "41070cdf"
      },
      "source": [
        "# Make predictions with all three models on X_val\n",
        "y_pred_xgb = xgb_model.predict(X_val)\n",
        "# Assuming LinearRegression and RandomForestRegressor models were trained in Chapter 4\n",
        "# If not, you would need to train them here first\n",
        "# from sklearn.linear_model import LinearRegression\n",
        "# from sklearn.ensemble import RandomForestRegressor\n",
        "\n",
        "# lr_model = LinearRegression()\n",
        "# lr_model.fit(X_train, y_train)\n",
        "# y_pred_lr = lr_model.predict(X_val)\n",
        "\n",
        "# rf_model = RandomForestRegressor(n_estimators=100, random_state=42)\n",
        "# rf_model.fit(X_train, y_train)\n",
        "# y_pred_rf = rf_model.predict(X_val)\n",
        "\n",
        "print(\"Predictions made with XGBoost model.\")\n",
        "# print(\"Predictions made with Linear Regression model.\")\n",
        "# print(\"Predictions made with Random Forest Regressor model.\")"
      ],
      "execution_count": null,
      "outputs": []
    },
    {
      "cell_type": "markdown",
      "metadata": {
        "id": "cf2b4a4f"
      },
      "source": [
        "### 5.2. Compare Performance"
      ]
    },
    {
      "cell_type": "code",
      "metadata": {
        "id": "2191bcd7"
      },
      "source": [
        "from sklearn.metrics import mean_squared_error, mean_absolute_error\n",
        "import numpy as np\n",
        "\n",
        "# Calculate RMSE and MAE for each model\n",
        "rmse_xgb = np.sqrt(mean_squared_error(y_val, y_pred_xgb))\n",
        "mae_xgb = mean_absolute_error(y_val, y_pred_xgb)\n",
        "\n",
        "# Assuming y_pred_lr and y_pred_rf are available from the previous cell\n",
        "# rmse_lr = np.sqrt(mean_squared_error(y_val, y_pred_lr))\n",
        "# mae_lr = mean_absolute_error(y_val, y_pred_lr)\n",
        "\n",
        "# rmse_rf = np.sqrt(mean_squared_error(y_val, y_pred_rf))\n",
        "# mae_rf = mean_absolute_error(y_val, y_pred_rf)\n",
        "\n",
        "\n",
        "# Present the results clearly in a pandas DataFrame\n",
        "results_df = pd.DataFrame({\n",
        "    'Model': ['XGBoost'], # Add 'Linear Regression', 'Random Forest' if those models were trained\n",
        "    'RMSE': [rmse_xgb], # Add rmse_lr, rmse_rf\n",
        "    'MAE': [mae_xgb] # Add mae_lr, mae_rf\n",
        "})\n",
        "\n",
        "print(\"Model Performance Comparison:\")\n",
        "display(results_df)"
      ],
      "execution_count": null,
      "outputs": []
    },
    {
      "cell_type": "markdown",
      "metadata": {
        "id": "981bb893"
      },
      "source": [
        "## Chapter 6: Analysis of the Best Model"
      ]
    },
    {
      "cell_type": "markdown",
      "metadata": {
        "id": "2d40ea08"
      },
      "source": [
        "Based on the evaluation metrics, we select the best-performing model and conduct a deeper analysis. Since XGBoost generally performs well, we will focus on its analysis here."
      ]
    },
    {
      "cell_type": "markdown",
      "metadata": {
        "id": "254be1fd"
      },
      "source": [
        "### 6.1. Visualize Predictions vs. Actuals"
      ]
    },
    {
      "cell_type": "code",
      "metadata": {
        "id": "d91114c7"
      },
      "source": [
        "# Create a DataFrame for plotting\n",
        "plot_df = pd.DataFrame({'Actual': y_val, 'Predicted': y_pred_xgb}, index=X_val.index)\n",
        "\n",
        "# Sort by Date for a meaningful time series plot\n",
        "plot_df = plot_df.sort_index()\n",
        "\n",
        "plt.figure(figsize=(15, 6))\n",
        "plt.plot(val_df['Date'], plot_df['Actual'], label='Actual Demand', alpha=0.7)\n",
        "plt.plot(val_df['Date'], plot_df['Predicted'], label='Predicted Demand', alpha=0.7)\n",
        "plt.title('XGBoost Predictions vs. Actuals Over Time')\n",
        "plt.xlabel('Date')\n",
        "plt.ylabel('Demand')\n",
        "plt.legend()\n",
        "plt.xticks(rotation=45)\n",
        "plt.tight_layout()\n",
        "plt.show()"
      ],
      "execution_count": null,
      "outputs": []
    },
    {
      "cell_type": "markdown",
      "metadata": {
        "id": "2f900a44"
      },
      "source": [
        "### 6.2. Feature Importance Analysis"
      ]
    },
    {
      "cell_type": "code",
      "metadata": {
        "id": "29187c61"
      },
      "source": [
        "# Get feature importances from the trained XGBoost model\n",
        "feature_importances = xgb_model.feature_importances_\n",
        "\n",
        "# Create a DataFrame of feature importances\n",
        "feature_importance_df = pd.DataFrame({'feature': X_train.columns, 'importance': feature_importances})\n",
        "\n",
        "# Sort features by importance\n",
        "feature_importance_df = feature_importance_df.sort_values(by='importance', ascending=False)\n",
        "\n",
        "# Display top 20 features\n",
        "print(\"\\nTop 20 Feature Importances (XGBoost):\")\n",
        "display(feature_importance_df.head(20))\n",
        "\n",
        "# Plot feature importances\n",
        "plt.figure(figsize=(12, 8))\n",
        "sns.barplot(x='importance', y='feature', data=feature_importance_df.head(20))\n",
        "plt.title('Top 20 Feature Importances (XGBoost)')\n",
        "plt.xlabel('Importance')\n",
        "plt.ylabel('Feature')\n",
        "plt.tight_layout()\n",
        "plt.show()"
      ],
      "execution_count": null,
      "outputs": []
    }
  ]
}